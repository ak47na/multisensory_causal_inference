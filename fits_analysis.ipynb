{
 "cells": [
  {
   "cell_type": "code",
   "execution_count": null,
   "metadata": {},
   "outputs": [],
   "source": [
    "%load_ext autoreload\n",
    "%autoreload 2\n",
    "\n",
    "import numpy as np\n",
    "from custom_causal_inference import CustomCausalInference\n",
    "import utils\n",
    "import forward_models_causal_inference\n",
    "import matplotlib.pyplot as plt\n",
    "import pickle"
   ]
  },
  {
   "cell_type": "code",
   "execution_count": 2,
   "metadata": {},
   "outputs": [],
   "source": [
    "%reload_ext autoreload"
   ]
  },
  {
   "cell_type": "code",
   "execution_count": 3,
   "metadata": {},
   "outputs": [],
   "source": [
    "D = 250  # grid dimension \n",
    "NUM_SIM = 10000  # number of simulations\n",
    "angle_gam_data_path = './base_bayesian_contour_1_circular_gam.pkl'\n",
    "unif_fn_data_path='./uniform_model_base_inv_kappa_free.pkl'\n",
    "p_commons = np.linspace(0, 1, num=20)\n",
    "t_index = 0\n",
    "\n",
    "causal_inference_estimator = forward_models_causal_inference.CausalEstimator(\n",
    "    model=CustomCausalInference(decision_rule='mean'),\n",
    "    angle_gam_data_path=angle_gam_data_path,\n",
    "    unif_fn_data_path=unif_fn_data_path)\n",
    "unif_map = causal_inference_estimator.unif_map"
   ]
  },
  {
   "cell_type": "code",
   "execution_count": 4,
   "metadata": {},
   "outputs": [],
   "source": [
    "grid_sz = 100\n",
    "optimal_kappa_pairs_filepath = f'./learned_data/optimal_kappa_pairs_{grid_sz}_t{t_index}.pkl'\n",
    "min_error_for_idx_pc_filepath = f'./learned_data/min_error_for_idx_pc_{grid_sz}_t{t_index}.pkl'\n",
    "min_error_for_idx_filepath = f'./learned_data/min_error_for_idx_{grid_sz}_t{t_index}.pkl'\n",
    "s_ns_filepath = f'./learned_data/selected_s_n_{grid_sz}_t{t_index}.npy'\n",
    "ts_filepath = f'./learned_data/selected_t_{grid_sz}_t{t_index}.npy'\n",
    "r_ns_filepath = f'./learned_data/selected_r_n_{grid_sz}_t{t_index}.npy'"
   ]
  },
  {
   "cell_type": "code",
   "execution_count": 5,
   "metadata": {},
   "outputs": [],
   "source": [
    "with open(optimal_kappa_pairs_filepath, 'rb') as f:\n",
    "    optimal_kappa_pairs = pickle.load(f)\n",
    "with open(min_error_for_idx_pc_filepath, 'rb') as f:\n",
    "    min_error_for_idx_pc = pickle.load(f)\n",
    "with open(min_error_for_idx_filepath, 'rb') as f:\n",
    "    min_error_for_idx = pickle.load(f)\n",
    "s_ns = np.load(s_ns_filepath)\n",
    "ts = np.load(ts_filepath)\n",
    "r_ns = np.load(r_ns_filepath)"
   ]
  },
  {
   "cell_type": "code",
   "execution_count": 6,
   "metadata": {},
   "outputs": [
    {
     "data": {
      "text/plain": [
       "10"
      ]
     },
     "execution_count": 6,
     "metadata": {},
     "output_type": "execute_result"
    }
   ],
   "source": [
    "grid_dim = int(np.sqrt(s_ns.shape[0]))\n",
    "grid_dim"
   ]
  },
  {
   "cell_type": "code",
   "execution_count": null,
   "metadata": {},
   "outputs": [],
   "source": [
    "plt.scatter(s_ns, r_ns, label = 'r_n as fn of s_n')\n",
    "#plt.scatter(ts, r_ns, label='r_n as fn of t')\n",
    "plt.plot(s_ns, s_ns, label='s_n', c='r')\n",
    "plt.legend()\n",
    "plt.savefig(f'./figs/sn_vs_rn_{grid_sz}_t{t_index}.png')\n",
    "plt.clf()\n",
    "plt.scatter(np.linspace(np.min(s_ns), np.max(s_ns), num=grid_dim), s_ns[:grid_dim])\n",
    "plt.title('Selected s_n as a function of uniform stimuli in angle space')\n",
    "plt.savefig(f'./figs/selected_sn_{grid_sz}_t{t_index}.png')\n",
    "plt.clf()"
   ]
  },
  {
   "cell_type": "code",
   "execution_count": 59,
   "metadata": {},
   "outputs": [
    {
     "name": "stdout",
     "output_type": "stream",
     "text": [
      "31: t, s_n, r_n = (-1.274, -0.694, -0.5054) d/pi=0.1847 min_err=0.16620621476297304 p_c=0.895 optimal_kappa=(array([400.]), array([1.1]))\n",
      "32: t, s_n, r_n = (-0.971, -0.694, -0.3778) d/pi=0.0884 min_err=0.28996344957419495 p_c=0.895 optimal_kappa=(array([400.]), array([1.1]))\n",
      "33: t, s_n, r_n = (-0.694, -0.694, -0.3649) d/pi=0.0 min_err=0.29013045386387315 p_c=0.842 optimal_kappa=(array([291.81624545]), array([1.1]))\n",
      "34: t, s_n, r_n = (-0.517, -0.694, -0.3803) d/pi=0.0562 min_err=0.1519011371940664 p_c=0.0 optimal_kappa=(array([32.09636014]), array([200.2]))\n",
      "41: t, s_n, r_n = (-1.274, -0.517, -0.2964) d/pi=0.241 min_err=0.2231142337559735 p_c=0.947 optimal_kappa=(array([400.]), array([1.1]))\n",
      "42: t, s_n, r_n = (-0.971, -0.517, -0.1256) d/pi=0.1446 min_err=0.3905482690815374 p_c=0.947 optimal_kappa=(array([400.]), array([1.1]))\n",
      "43: t, s_n, r_n = (-0.694, -0.517, -0.173) d/pi=0.0562 min_err=0.3346169394168941 p_c=0.895 optimal_kappa=(array([400.]), array([1.1]))\n",
      "44: t, s_n, r_n = (-0.517, -0.517, -0.2697) d/pi=0.0 min_err=0.23312812410244765 p_c=0.895 optimal_kappa=(array([291.81624545]), array([1.1]))\n",
      "51: t, s_n, r_n = (-1.274, -0.416, -0.2004) d/pi=0.2731 min_err=0.2195291849535148 p_c=1.0 optimal_kappa=(array([400.]), array([1.1]))\n",
      "52: t, s_n, r_n = (-0.971, -0.416, -0.0295) d/pi=0.1767 min_err=0.3899332779346478 p_c=1.0 optimal_kappa=(array([400.]), array([1.1]))\n",
      "53: t, s_n, r_n = (-0.694, -0.416, -0.1076) d/pi=0.0884 min_err=0.308788630566565 p_c=0.947 optimal_kappa=(array([400.]), array([1.1]))\n",
      "54: t, s_n, r_n = (-0.517, -0.416, -0.2354) d/pi=0.0321 min_err=0.17630067473291522 p_c=0.947 optimal_kappa=(array([400.]), array([1.1]))\n",
      "61: t, s_n, r_n = (-1.274, -0.341, -0.1412) d/pi=0.2972 min_err=0.2007829287728473 p_c=1.0 optimal_kappa=(array([400.]), array([1.1]))\n",
      "62: t, s_n, r_n = (-0.971, -0.341, 0.0168) d/pi=0.2008 min_err=0.3588010107391484 p_c=1.0 optimal_kappa=(array([400.]), array([1.44658451]))\n",
      "63: t, s_n, r_n = (-0.694, -0.341, -0.0768) d/pi=0.1124 min_err=0.2648177381152599 p_c=1.0 optimal_kappa=(array([400.]), array([1.44658451]))\n",
      "64: t, s_n, r_n = (-0.517, -0.341, -0.2121) d/pi=0.0562 min_err=0.1295739145222381 p_c=1.0 optimal_kappa=(array([400.]), array([1.1]))\n",
      "71: t, s_n, r_n = (-1.274, -0.265, -0.096) d/pi=0.3213 min_err=0.16544201192634223 p_c=1.0 optimal_kappa=(array([43.99530272]), array([1.1]))\n",
      "72: t, s_n, r_n = (-0.971, -0.265, 0.0374) d/pi=0.2249 min_err=0.2977971388884657 p_c=1.0 optimal_kappa=(array([32.09636014]), array([1.1]))\n",
      "73: t, s_n, r_n = (-0.694, -0.265, -0.0604) d/pi=0.1365 min_err=0.20020126066319843 p_c=1.0 optimal_kappa=(array([43.99530272]), array([1.1]))\n",
      "81: t, s_n, r_n = (-1.274, -0.189, -0.0701) d/pi=0.3454 min_err=0.10088824955766862 p_c=1.0 optimal_kappa=(array([23.41559827]), array([1.1]))\n",
      "82: t, s_n, r_n = (-0.971, -0.189, 0.0278) d/pi=0.249 min_err=0.19609495237907604 p_c=1.0 optimal_kappa=(array([23.41559827]), array([1.1]))\n",
      "83: t, s_n, r_n = (-0.694, -0.189, -0.0562) d/pi=0.1606 min_err=0.11184718998068188 p_c=1.0 optimal_kappa=(array([23.41559827]), array([1.1]))\n",
      "98: t, s_n, r_n = (-0.189, -0.063, 0.0526) d/pi=0.0402 min_err=0.10583053193765268 p_c=1.0 optimal_kappa=(array([23.41559827]), array([1.1]))\n",
      "99: t, s_n, r_n = (-0.063, -0.063, 0.0805) d/pi=0.0 min_err=0.12284928627617386 p_c=0.789 optimal_kappa=(array([23.41559827]), array([1.44658451]))\n",
      "Max dif across 10 estimates for index (8, 0.5263157894736842) 2.748625173836463\n",
      "Max dif across 10 estimates for index (10, 0.47368421052631576) 2.3007516351799775\n",
      "Max dif across 10 estimates for index (14, 0.05263157894736842) 2.723695116399664\n",
      "20: t, s_n, r_n = (-1.577, -0.971, -0.8459) d/pi=0.1928 min_err=0.12581119950221842 p_c=0.0 optimal_kappa=(array([212.89180278]), array([38.70413083]))\n",
      "21: t, s_n, r_n = (-1.274, -0.971, -0.8806) d/pi=0.0964 min_err=0.09133858066533396 p_c=0.0 optimal_kappa=(array([212.89180278]), array([29.4310796]))\n",
      "31: t, s_n, r_n = (-1.274, -0.694, -0.5054) d/pi=0.1847 min_err=0.19282692869151852 p_c=0.0 optimal_kappa=(array([400.]), array([12.94055242]))\n",
      "32: t, s_n, r_n = (-0.971, -0.694, -0.3778) d/pi=0.0884 min_err=0.3210771781398738 p_c=0.053 optimal_kappa=(array([400.]), array([3.29000977]))\n",
      "33: t, s_n, r_n = (-0.694, -0.694, -0.3649) d/pi=0.0 min_err=0.2851744845641666 p_c=0.789 optimal_kappa=(array([1.]), array([200.2]))\n",
      "34: t, s_n, r_n = (-0.517, -0.694, -0.3803) d/pi=0.0562 min_err=0.1280023459477162 p_c=0.895 optimal_kappa=(array([1.]), array([200.2]))\n",
      "41: t, s_n, r_n = (-1.274, -0.517, -0.2964) d/pi=0.241 min_err=0.22744998050195742 p_c=0.0 optimal_kappa=(array([400.]), array([5.68983195]))\n",
      "42: t, s_n, r_n = (-0.971, -0.517, -0.1256) d/pi=0.1446 min_err=0.398992689579587 p_c=0.0 optimal_kappa=(array([400.]), array([1.1]))\n",
      "43: t, s_n, r_n = (-0.694, -0.517, -0.173) d/pi=0.0562 min_err=0.3513049985093595 p_c=0.0 optimal_kappa=(array([400.]), array([12.94055242]))\n",
      "44: t, s_n, r_n = (-0.517, -0.517, -0.2697) d/pi=0.0 min_err=0.2271795398234011 p_c=0.842 optimal_kappa=(array([1.]), array([200.2]))\n",
      "Max dif across 10 estimates for index (50, 0.15789473684210525) 3.6370164274705794\n",
      "51: t, s_n, r_n = (-1.274, -0.416, -0.2004) d/pi=0.2731 min_err=0.21878582964584004 p_c=0.0 optimal_kappa=(array([400.]), array([12.94055242]))\n",
      "52: t, s_n, r_n = (-0.971, -0.416, -0.0295) d/pi=0.1767 min_err=0.38982415033493556 p_c=0.0 optimal_kappa=(array([400.]), array([66.9359714]))\n",
      "53: t, s_n, r_n = (-0.694, -0.416, -0.1076) d/pi=0.0884 min_err=0.3116466083905629 p_c=0.0 optimal_kappa=(array([400.]), array([4.32661562]))\n",
      "54: t, s_n, r_n = (-0.517, -0.416, -0.2354) d/pi=0.0321 min_err=0.18407920387840004 p_c=0.0 optimal_kappa=(array([400.]), array([200.2]))\n",
      "61: t, s_n, r_n = (-1.274, -0.341, -0.1412) d/pi=0.2972 min_err=0.20008111323845723 p_c=0.0 optimal_kappa=(array([400.]), array([4.32661562]))\n",
      "62: t, s_n, r_n = (-0.971, -0.341, 0.0168) d/pi=0.2008 min_err=0.35805341949623903 p_c=0.0 optimal_kappa=(array([291.81624545]), array([5.68983195]))\n",
      "63: t, s_n, r_n = (-0.694, -0.341, -0.0768) d/pi=0.1124 min_err=0.2643435815341446 p_c=0.0 optimal_kappa=(array([400.]), array([12.94055242]))\n",
      "64: t, s_n, r_n = (-0.517, -0.341, -0.2121) d/pi=0.0562 min_err=0.12925194031220855 p_c=0.0 optimal_kappa=(array([291.81624545]), array([200.2]))\n",
      "71: t, s_n, r_n = (-1.274, -0.265, -0.096) d/pi=0.3213 min_err=0.15641097355845224 p_c=0.0 optimal_kappa=(array([17.08262993]), array([38.70413083]))\n",
      "72: t, s_n, r_n = (-0.971, -0.265, 0.0374) d/pi=0.2249 min_err=0.28967415649228334 p_c=0.0 optimal_kappa=(array([23.41559827]), array([38.70413083]))\n",
      "73: t, s_n, r_n = (-0.694, -0.265, -0.0604) d/pi=0.1365 min_err=0.1915980553519563 p_c=0.0 optimal_kappa=(array([23.41559827]), array([17.01782064]))\n",
      "82: t, s_n, r_n = (-0.971, -0.189, 0.0278) d/pi=0.249 min_err=0.18314525010013094 p_c=0.0 optimal_kappa=(array([17.08262993]), array([1.1]))\n",
      "83: t, s_n, r_n = (-0.694, -0.189, -0.0562) d/pi=0.1606 min_err=0.09926389629482468 p_c=0.0 optimal_kappa=(array([12.46247232]), array([66.9359714]))\n",
      "98: t, s_n, r_n = (-0.189, -0.063, 0.0526) d/pi=0.0402 min_err=0.09638585226048768 p_c=0.0 optimal_kappa=(array([9.09187971]), array([29.4310796]))\n",
      "99: t, s_n, r_n = (-0.063, -0.063, 0.0805) d/pi=0.0 min_err=0.1245197270138223 p_c=1.0 optimal_kappa=(array([1.87888869]), array([3.29000977]))\n"
     ]
    }
   ],
   "source": [
    "err_mat = {est: np.zeros_like(s_ns) for est in min_error_for_idx.keys()}\n",
    "min_err_mat = np.zeros_like(s_ns)\n",
    "optimal_kappa_pairs_arr = {est: np.zeros((*s_ns.shape, 2)) for est in optimal_kappa_pairs.keys()} # 2 kappa values\n",
    "optimal_pc = {est: np.zeros_like(s_ns) for est in min_error_for_idx.keys()}\n",
    "optimal_pc_min = np.zeros_like(s_ns)\n",
    "err_threshold = np.deg2rad(5)\n",
    "\n",
    "test_fwd_sim = True\n",
    "fwd_errors = np.zeros_like(s_ns)\n",
    "high_error_idxs = {'sn': [], 't': []}\n",
    "for est in optimal_kappa_pairs.keys():\n",
    "    for key in min_error_for_idx_pc[est]:\n",
    "        if min_error_for_idx_pc[est][key] == min_error_for_idx[est][key[0]]:\n",
    "            # key[0] is the index of means s.t. causal inference is performed on (s_n[key[0]], t[key[0]])\n",
    "            # key[1] is the optimal p_common for the pair\n",
    "            optimal_pc[est][key[0]] = key[1]\n",
    "            err_mat[est][int(key[0])] = min_error_for_idx[est][key[0]]\n",
    "            optimal_kappa_pairs_arr[est][int(key[0]), :] = np.array(optimal_kappa_pairs[est][key]).reshape(2,)\n",
    "            if min_error_for_idx_pc[est][key] >= err_threshold:\n",
    "                high_error_idxs[est].append(key[0])\n",
    "                print(f'{key[0]}: t, s_n, r_n = {np.round(s_ns[key[0]], 3), np.round(ts[key[0]], 3), np.round(r_ns[key[0]], 4)}', \n",
    "                    f'd/pi={np.round(utils.circular_dist(s_ns[key[0]], ts[key[0]]) / np.pi, 4)}', \n",
    "                    f'min_err={min_error_for_idx_pc[est][key]}',  \n",
    "                    f'p_c={np.round(key[1], 3)}', \n",
    "                    f'optimal_kappa={optimal_kappa_pairs[est][key]}')\n",
    "            if test_fwd_sim:\n",
    "                mean_ests = []\n",
    "                for _ in range(30):\n",
    "                    usn, ut = unif_map.angle_space_to_unif_space([s_ns[key[0]]]), unif_map.angle_space_to_unif_space([ts[key[0]]])\n",
    "                    t_samples, s_n_samples = causal_inference_estimator.get_vm_samples(\n",
    "                                num_sim=10000,\n",
    "                                mu_t=ut,\n",
    "                                mu_s_n=usn,\n",
    "                                kappa1=optimal_kappa_pairs[est][key][0],\n",
    "                                kappa2=optimal_kappa_pairs[est][key][1])\n",
    "                    _, _, mean_t_est, mean_sn_est = causal_inference_estimator.forward(t_samples=t_samples,\n",
    "                        s_n_samples=s_n_samples, \n",
    "                                                                            kappa1=optimal_kappa_pairs[est][key][0], \n",
    "                                                                            kappa2=optimal_kappa_pairs[est][key][1], \n",
    "                                                                            p_common=key[1])\n",
    "                    if est == 'sn':\n",
    "                        mean_ests.append(mean_sn_est[0,0])\n",
    "                    else:\n",
    "                        mean_ests.append(mean_t_est[0,0])\n",
    "                    assert mean_sn_est.shape == (1, 1)\n",
    "                del t_samples, s_n_samples, mean_t_est, mean_sn_est\n",
    "                fwd_errors[key[0]] = sum(map(lambda x: utils.circular_dist(x, r_ns[key[0]]), mean_ests)) / len(mean_ests)\n",
    "                if (np.rad2deg(utils.circular_dist(max(mean_ests), min(mean_ests))) > 2):\n",
    "                    print('Max dif across 10 estimates for index', key, np.rad2deg(utils.circular_dist(max(mean_ests), min(mean_ests))))\n",
    "                if abs(fwd_errors[key[0]] - min_error_for_idx_pc[est][key]) > err_threshold:\n",
    "                    print(f'Error forward vs fits {key[0]}', fwd_errors[key[0]], np.rad2deg(abs(fwd_errors[key[0]] - min_error_for_idx_pc[est][key])), np.rad2deg(utils.circular_dist(max(mean_ests), min(mean_ests))))\n"
   ]
  },
  {
   "cell_type": "code",
   "execution_count": 12,
   "metadata": {},
   "outputs": [
    {
     "name": "stdout",
     "output_type": "stream",
     "text": [
      "Indices for sn where optimal kappa1 > kappa2: 91 [False False  True  True  True  True  True  True  True  True  True  True\n",
      "  True  True  True  True  True  True  True  True  True  True  True  True\n",
      "  True  True  True  True  True  True  True  True  True  True False False\n",
      " False  True  True  True  True  True  True  True  True False False  True\n",
      "  True  True  True  True  True  True  True  True  True  True  True  True\n",
      "  True  True  True  True  True  True False  True  True  True  True  True\n",
      "  True  True  True  True  True  True  True  True  True  True  True  True\n",
      "  True  True  True  True False  True  True  True  True  True  True  True\n",
      "  True  True  True  True]\n",
      "Indices for t where optimal kappa1 > kappa2: 42 [ True False False  True  True  True False  True False  True False False\n",
      "  True False False  True  True  True False  True  True  True False False\n",
      " False False False False False False False  True  True False False False\n",
      " False False False False False  True  True  True False False False False\n",
      " False False False  True  True  True  True False False  True False  True\n",
      " False  True  True  True  True  True  True  True False  True False False\n",
      " False  True False False  True  True  True False False False  True False\n",
      " False  True  True False  True False False False  True  True False False\n",
      " False False False False]\n"
     ]
    }
   ],
   "source": [
    "for est in optimal_kappa_pairs_arr.keys():\n",
    "    print(f'Indices for {est} where optimal kappa1 > kappa2: {np.sum(optimal_kappa_pairs_arr[est][:, 0] >= optimal_kappa_pairs_arr[est][:, 1])} {optimal_kappa_pairs_arr[est][:, 0] >= optimal_kappa_pairs_arr[est][:, 1]}')"
   ]
  },
  {
   "cell_type": "code",
   "execution_count": 13,
   "metadata": {},
   "outputs": [
    {
     "name": "stdout",
     "output_type": "stream",
     "text": [
      "Kappa values for estimate sn where optimal kappa1 > kappa2: [[  6.6328955    2.50176241]\n",
      " [113.30729922   7.48256615]\n",
      " [212.89180278  50.89890563]\n",
      " [291.81624545   4.32661562]\n",
      " [212.89180278   3.29000977]\n",
      " [400.           1.90236977]\n",
      " [ 23.41559827   1.1       ]\n",
      " [ 60.305488     1.90236977]\n",
      " [400.           1.1       ]\n",
      " [113.30729922   1.1       ]\n",
      " [400.           4.32661562]\n",
      " [  4.83896665   1.1       ]\n",
      " [  4.83896665   1.1       ]\n",
      " [ 43.99530272   1.90236977]\n",
      " [113.30729922   1.44658451]\n",
      " [ 32.09636014   2.50176241]\n",
      " [  2.57544084   1.44658451]\n",
      " [291.81624545 200.2       ]\n",
      " [291.81624545   1.1       ]\n",
      " [291.81624545   1.1       ]\n",
      " [ 43.99530272   1.1       ]\n",
      " [  6.6328955    5.68983195]\n",
      " [  9.09187971   4.32661562]\n",
      " [ 43.99530272   5.68983195]\n",
      " [ 23.41559827   1.44658451]\n",
      " [ 82.6622766    1.44658451]\n",
      " [155.31321644   7.48256615]\n",
      " [ 23.41559827   3.29000977]\n",
      " [291.81624545   1.44658451]\n",
      " [400.           1.1       ]\n",
      " [400.           1.1       ]\n",
      " [291.81624545   1.1       ]\n",
      " [ 43.99530272  29.4310796 ]\n",
      " [ 12.46247232   5.68983195]\n",
      " [ 23.41559827   1.44658451]\n",
      " [113.30729922   2.50176241]\n",
      " [400.           1.1       ]\n",
      " [400.           1.1       ]\n",
      " [400.           1.1       ]\n",
      " [291.81624545   1.1       ]\n",
      " [291.81624545   1.44658451]\n",
      " [ 60.305488     4.32661562]\n",
      " [ 32.09636014   3.29000977]\n",
      " [ 12.46247232   1.1       ]\n",
      " [400.           1.1       ]\n",
      " [400.           1.1       ]\n",
      " [400.           1.1       ]\n",
      " [400.           1.1       ]\n",
      " [291.81624545   1.1       ]\n",
      " [400.          38.70413083]\n",
      " [291.81624545   1.90236977]\n",
      " [ 60.305488     1.1       ]\n",
      " [  1.37072561   1.1       ]\n",
      " [400.           1.90236977]\n",
      " [400.           1.1       ]\n",
      " [400.           1.44658451]\n",
      " [400.           1.44658451]\n",
      " [400.           1.1       ]\n",
      " [400.           1.1       ]\n",
      " [  1.87888869   1.44658451]\n",
      " [  2.57544084   1.1       ]\n",
      " [212.89180278   4.32661562]\n",
      " [ 43.99530272   1.90236977]\n",
      " [ 43.99530272   1.1       ]\n",
      " [ 32.09636014   1.1       ]\n",
      " [ 43.99530272   1.1       ]\n",
      " [ 43.99530272   1.1       ]\n",
      " [ 32.09636014   1.1       ]\n",
      " [ 82.6622766   12.94055242]\n",
      " [  2.57544084   2.50176241]\n",
      " [  1.87888869   1.1       ]\n",
      " [ 60.305488     7.48256615]\n",
      " [  6.6328955    1.1       ]\n",
      " [ 23.41559827   1.1       ]\n",
      " [ 23.41559827   1.1       ]\n",
      " [ 23.41559827   1.1       ]\n",
      " [ 23.41559827   1.1       ]\n",
      " [ 82.6622766    1.44658451]\n",
      " [ 60.305488     1.44658451]\n",
      " [400.          38.70413083]\n",
      " [  3.5302227    1.1       ]\n",
      " [291.81624545 200.2       ]\n",
      " [113.30729922   5.68983195]\n",
      " [ 32.09636014   1.1       ]\n",
      " [ 82.6622766    1.44658451]\n",
      " [ 82.6622766    1.1       ]\n",
      " [ 82.6622766    1.1       ]\n",
      " [ 43.99530272   1.1       ]\n",
      " [ 23.41559827   1.1       ]\n",
      " [ 23.41559827   1.1       ]\n",
      " [ 23.41559827   1.44658451]]\n",
      "Kappa values for estimate t where optimal kappa1 > kappa2: [[  6.6328955    4.32661562]\n",
      " [  6.6328955    4.32661562]\n",
      " [212.89180278  50.89890563]\n",
      " [  9.09187971   5.68983195]\n",
      " [  6.6328955    5.68983195]\n",
      " [  2.57544084   2.50176241]\n",
      " [400.          17.01782064]\n",
      " [ 60.305488     2.50176241]\n",
      " [ 32.09636014   9.84014936]\n",
      " [ 12.46247232   4.32661562]\n",
      " [291.81624545 200.2       ]\n",
      " [212.89180278  38.70413083]\n",
      " [212.89180278  29.4310796 ]\n",
      " [400.          12.94055242]\n",
      " [400.           3.29000977]\n",
      " [400.           5.68983195]\n",
      " [400.           1.1       ]\n",
      " [400.          12.94055242]\n",
      " [400.          12.94055242]\n",
      " [400.          66.9359714 ]\n",
      " [400.           4.32661562]\n",
      " [400.         200.2       ]\n",
      " [400.           4.32661562]\n",
      " [113.30729922  12.94055242]\n",
      " [400.           4.32661562]\n",
      " [291.81624545   5.68983195]\n",
      " [400.          12.94055242]\n",
      " [291.81624545 200.2       ]\n",
      " [291.81624545   3.29000977]\n",
      " [ 43.99530272  12.94055242]\n",
      " [ 12.46247232   1.1       ]\n",
      " [291.81624545   5.68983195]\n",
      " [ 23.41559827  17.01782064]\n",
      " [113.30729922  88.02594499]\n",
      " [  3.5302227    1.1       ]\n",
      " [  3.5302227    3.29000977]\n",
      " [ 17.08262993   1.1       ]\n",
      " [113.30729922   1.90236977]\n",
      " [400.          29.4310796 ]\n",
      " [113.30729922  29.4310796 ]\n",
      " [291.81624545   4.32661562]\n",
      " [400.           4.32661562]]\n"
     ]
    }
   ],
   "source": [
    "for est in optimal_kappa_pairs_arr.keys():\n",
    "    print(f'Kappa values for estimate {est} where optimal kappa1 > kappa2: {optimal_kappa_pairs_arr[est][optimal_kappa_pairs_arr[est][:, 0] >= optimal_kappa_pairs_arr[est][:, 1]]}')"
   ]
  },
  {
   "cell_type": "code",
   "execution_count": 10,
   "metadata": {},
   "outputs": [
    {
     "data": {
      "text/plain": [
       "<Figure size 720x576 with 0 Axes>"
      ]
     },
     "metadata": {},
     "output_type": "display_data"
    },
    {
     "data": {
      "text/plain": [
       "<Figure size 720x576 with 0 Axes>"
      ]
     },
     "metadata": {},
     "output_type": "display_data"
    }
   ],
   "source": [
    "usns = unif_map.angle_space_to_unif_space(s_ns)\n",
    "uts = unif_map.angle_space_to_unif_space(ts)\n",
    "for est in ['sn', 't']:\n",
    "    plt.figure(figsize=(10, 8))\n",
    "    plt.pcolormesh(usns.reshape((grid_dim, grid_dim)), uts.reshape((grid_dim, grid_dim)), \n",
    "                err_mat[est].reshape((grid_dim, grid_dim)), shading='auto', cmap='magma')\n",
    "    plt.colorbar(label='circular distance to r_n(t, s_n)')\n",
    "    plt.xlabel('s_n')\n",
    "    plt.ylabel('t')\n",
    "    plt.title(f'Heatmap of error for r_n(t, s_n) using estimate for {est}')\n",
    "    plt.savefig(f'./figs/error_heatmap_uspace_{grid_sz}_t{t_index}_{est}.png')\n",
    "    plt.clf()"
   ]
  },
  {
   "cell_type": "code",
   "execution_count": 16,
   "metadata": {},
   "outputs": [
    {
     "data": {
      "text/plain": [
       "<Figure size 720x576 with 0 Axes>"
      ]
     },
     "metadata": {},
     "output_type": "display_data"
    }
   ],
   "source": [
    "plt.figure(figsize=(10, 8))\n",
    "plt.pcolormesh(usns.reshape((grid_dim, grid_dim)), \n",
    "               uts.reshape((grid_dim, grid_dim)), \n",
    "               r_ns.reshape((grid_dim, grid_dim)), shading='auto', cmap='magma')\n",
    "plt.colorbar(label='r_n(t, s_n)')\n",
    "plt.xlabel('s_n')\n",
    "plt.ylabel('t')\n",
    "plt.title('Heatmap of r_n(t, s_n)')\n",
    "plt.savefig(f'./figs/r_n_axis_u_space_{grid_sz}_t{t_index}.png')\n",
    "plt.clf()"
   ]
  },
  {
   "cell_type": "code",
   "execution_count": 19,
   "metadata": {},
   "outputs": [
    {
     "data": {
      "text/plain": [
       "<Figure size 720x576 with 0 Axes>"
      ]
     },
     "metadata": {},
     "output_type": "display_data"
    },
    {
     "data": {
      "text/plain": [
       "<Figure size 720x576 with 0 Axes>"
      ]
     },
     "metadata": {},
     "output_type": "display_data"
    },
    {
     "data": {
      "text/plain": [
       "<Figure size 720x576 with 0 Axes>"
      ]
     },
     "metadata": {},
     "output_type": "display_data"
    },
    {
     "data": {
      "text/plain": [
       "<Figure size 720x576 with 0 Axes>"
      ]
     },
     "metadata": {},
     "output_type": "display_data"
    },
    {
     "data": {
      "text/plain": [
       "<Figure size 720x576 with 0 Axes>"
      ]
     },
     "metadata": {},
     "output_type": "display_data"
    },
    {
     "data": {
      "text/plain": [
       "<Figure size 720x576 with 0 Axes>"
      ]
     },
     "metadata": {},
     "output_type": "display_data"
    }
   ],
   "source": [
    "for est in ['sn', 't']:\n",
    "    optimal_kappa_ratio = optimal_kappa_pairs_arr[est][:, 1] / optimal_kappa_pairs_arr[est][:, 0]\n",
    "    plt.figure(figsize=(10, 8))\n",
    "    plt.pcolormesh(usns.reshape((grid_dim, grid_dim)), uts.reshape((grid_dim, grid_dim)), \n",
    "                optimal_kappa_ratio.reshape((grid_dim, grid_dim)), shading='auto', cmap='RdBu')\n",
    "    plt.colorbar(label='optimal_kappa_ratio(t, s_n)')\n",
    "    plt.xlabel('us_n')\n",
    "    plt.ylabel('ut')\n",
    "    plt.title(f'Heatmap of kappa ratio using estimate for {est}')\n",
    "    plt.savefig(f'./figs/optimal_kappa_ratio_{grid_sz}_t{t_index}_{est}.png')\n",
    "    plt.clf()\n",
    "\n",
    "    for k_index in [0, 1]:\n",
    "        plt.figure(figsize=(10, 8))\n",
    "        plt.pcolormesh(usns.reshape((grid_dim, grid_dim)), uts.reshape((grid_dim, grid_dim)), \n",
    "                    optimal_kappa_pairs_arr[est][:, k_index].reshape((grid_dim, grid_dim)), shading='auto', cmap='RdBu')\n",
    "        plt.colorbar(label='optimal_kappa_ratio(t, s_n)')\n",
    "        plt.xlabel('us_n')\n",
    "        plt.ylabel('ut')\n",
    "        if k_index == 0:\n",
    "            # plot latex doesn't support variables :(\n",
    "            plt.title(f'Heatmap of $\\kappa_1(t, s_n)$ for {est}')\n",
    "        else:\n",
    "            plt.title(f'Heatmap of $\\kappa_2(t, s_n)$ for {est}')\n",
    "        plt.savefig(f'./figs/kappa{k_index+1}_{grid_sz}_t{t_index}_{est}.png')\n",
    "        plt.clf()"
   ]
  },
  {
   "cell_type": "code",
   "execution_count": 21,
   "metadata": {},
   "outputs": [
    {
     "data": {
      "text/plain": [
       "<Figure size 720x576 with 0 Axes>"
      ]
     },
     "metadata": {},
     "output_type": "display_data"
    },
    {
     "data": {
      "text/plain": [
       "<Figure size 720x576 with 0 Axes>"
      ]
     },
     "metadata": {},
     "output_type": "display_data"
    }
   ],
   "source": [
    "for est in ['sn', 't']:\n",
    "    plt.figure(figsize=(10, 8))\n",
    "    plt.pcolormesh(usns.reshape((grid_dim, grid_dim)), uts.reshape((grid_dim, grid_dim)), \n",
    "                optimal_pc[est].reshape((grid_dim, grid_dim)), shading='auto', cmap='RdBu')\n",
    "    plt.colorbar(label='p_common(ut, us_n)')\n",
    "    plt.xlabel('s_n')\n",
    "    plt.ylabel('t')\n",
    "    plt.title('Heatmap of optimal p_common(ut, us_n) for {est} estimate')\n",
    "    plt.savefig(f'./figs/p_common_{grid_sz}_t{t_index}_{est}.png')\n",
    "    plt.clf()"
   ]
  },
  {
   "cell_type": "markdown",
   "metadata": {},
   "source": [
    "## Looking at optimal $\\kappa$ pairs"
   ]
  },
  {
   "cell_type": "code",
   "execution_count": 24,
   "metadata": {},
   "outputs": [
    {
     "name": "stdout",
     "output_type": "stream",
     "text": [
      "d:\\AK_Q2_2024\\causal_inference\n"
     ]
    }
   ],
   "source": [
    "import os\n",
    "print(os.getcwd())"
   ]
  },
  {
   "cell_type": "code",
   "execution_count": null,
   "metadata": {},
   "outputs": [],
   "source": [
    "import pickle\n",
    "\n",
    "with open(f'./learned_data/task_metadata_{grid_sz}_t{t_index}.pkl', 'rb') as f:\n",
    "    tasks_metadata = pickle.load(f)\n",
    "num_tasks = len(tasks_metadata)\n",
    "print(f'Number of tasks: {num_tasks}')\n",
    "errors_dicts = {}\n",
    "estimates = ['sn', 't']\n",
    "err_for_idx = {est: {} for est in estimates}\n",
    "nums_bad = 0\n",
    "max_error = 0\n",
    "high_error_idxs_both_est = []\n",
    "for task_idx in range(num_tasks):\n",
    "    try:\n",
    "        with open(f'./learned_data/optimal_kappa_errors/errors_dict_{task_idx}_{grid_sz}_t{t_index}.pkl', 'rb') as f:\n",
    "            errors_dicts[task_idx] = pickle.load(f)\n",
    "            mean_idx = tasks_metadata[task_idx]['mean_indices'][0]\n",
    "            min_error_across_pc = {est: min([errors_dicts[task_idx][p_c][f'errors_{est}'].min() for p_c in errors_dicts[task_idx].keys()]) for est in estimates}\n",
    "            for est in estimates:\n",
    "                if mean_idx not in err_for_idx[est]:\n",
    "                    err_for_idx[est][mean_idx] = min_error_across_pc[est]\n",
    "                else:   \n",
    "                    err_for_idx[est][mean_idx] = min(err_for_idx[est][mean_idx], min_error_across_pc[est])\n",
    "    except:\n",
    "        nums_bad += 1\n",
    "        print(f'Error for task {task_idx}')\n",
    "print(f'Number of bad tasks: {nums_bad}')\n",
    "for mean_idx in err_for_idx:\n",
    "    if max(err_for_idx['sn'][mean_idx], err_for_idx['t'][mean_idx]) > .1:\n",
    "        high_error_idxs_both_est.append(mean_idx)\n",
    "        print(mean_idx, err_for_idx['sn'][mean_idx], err_for_idx['t'][mean_idx])\n",
    "    max_error = max(min(err_for_idx['sn'][mean_idx], err_for_idx['t'][mean_idx]), max_error)\n",
    "print(f'Max error: {max_error}')\n",
    "print(high_error_idxs_both_est, '\\n', list(zip(zip(s_ns[high_error_idxs_both_est], ts[high_error_idxs_both_est]), r_ns[high_error_idxs_both_est])))"
   ]
  },
  {
   "cell_type": "code",
   "execution_count": 56,
   "metadata": {},
   "outputs": [
    {
     "data": {
      "text/plain": [
       "(array([0.19563274, 0.19598604, 0.19631347, 0.19665918, 0.19673722,\n",
       "        0.1968979 , 0.19721252, 0.19869965, 0.19881868, 0.19926838,\n",
       "        0.19990927, 0.20005809, 0.20033883, 0.20078802, 0.20144288,\n",
       "        0.20243064, 0.20277238, 0.20303619, 0.20364949, 0.2042045 ,\n",
       "        0.20421627, 0.20430951, 0.20619348, 0.20719559, 0.20738809,\n",
       "        0.2077417 , 0.20787446, 0.20793327, 0.21045564, 0.21104438,\n",
       "        0.21107835, 0.21141673, 0.21199547, 0.21239549, 0.21259792,\n",
       "        0.21353929, 0.21424537, 0.21500496, 0.21599415, 0.21807018,\n",
       "        0.21920487, 0.21979079, 0.21985055, 0.21985951, 0.22088799,\n",
       "        0.22158222, 0.22204387, 0.22224587, 0.22371694, 0.22456831]),\n",
       " array([0.19282693, 0.19303133, 0.19319377, 0.19335094, 0.19340313,\n",
       "        0.19387955, 0.19392917, 0.19426232, 0.19432129, 0.19441968,\n",
       "        0.1944834 , 0.1945377 , 0.19455852, 0.19456239, 0.19466761,\n",
       "        0.19489024, 0.19494633, 0.19500842, 0.19533866, 0.19543327,\n",
       "        0.19558772, 0.19559272, 0.19568996, 0.19570884, 0.19571481,\n",
       "        0.19574253, 0.19588021, 0.19595669, 0.19600397, 0.19605684,\n",
       "        0.19637916, 0.19643552, 0.19643619, 0.19647447, 0.1968145 ,\n",
       "        0.19684031, 0.19705498, 0.19722316, 0.19735805, 0.19752039,\n",
       "        0.19752353, 0.19757693, 0.19766898, 0.19770358, 0.19775199,\n",
       "        0.19805534, 0.19819323, 0.19824322, 0.19860077, 0.19861386]))"
      ]
     },
     "execution_count": 56,
     "metadata": {},
     "output_type": "execute_result"
    }
   ],
   "source": [
    "errors_dicts[31][1.0]['errors_t'], errors_dicts[31][0.0]['errors_t']"
   ]
  },
  {
   "cell_type": "markdown",
   "metadata": {},
   "source": [
    "### Analysis on pairs of stimuli with high errors"
   ]
  },
  {
   "cell_type": "code",
   "execution_count": null,
   "metadata": {},
   "outputs": [
    {
     "name": "stdout",
     "output_type": "stream",
     "text": [
      "For index 31 with s_n, t, r_n = (-1.274300634588631, -0.6939260881423239, -0.5053799) and us_n, ut, urn = (-1.4033964984714, -1.039481147872558, -0.8713160334762415),\n",
      " optimal kappa pairs: (array([400. ,   1.1]), array([400.        ,  12.94055242])) and optimal p_c: (0.894736842105263, 0.0)\n",
      "\n",
      "\n"
     ]
    },
    {
     "data": {
      "image/png": "[encoded data removed]",
      "text/plain": [
       "<Figure size 432x288 with 1 Axes>"
      ]
     },
     "metadata": {
      "needs_background": "light"
     },
     "output_type": "display_data"
    },
    {
     "data": {
      "image/png": "[encoded data removed]",
      "text/plain": [
       "<Figure size 432x288 with 1 Axes>"
      ]
     },
     "metadata": {
      "needs_background": "light"
     },
     "output_type": "display_data"
    },
    {
     "data": {
      "image/png": "[encoded data removed]",
      "text/plain": [
       "<Figure size 432x288 with 1 Axes>"
      ]
     },
     "metadata": {
      "needs_background": "light"
     },
     "output_type": "display_data"
    },
    {
     "data": {
      "image/png": "[encoded data removed]",
      "text/plain": [
       "<Figure size 432x288 with 1 Axes>"
      ]
     },
     "metadata": {
      "needs_background": "light"
     },
     "output_type": "display_data"
    },
    {
     "name": "stdout",
     "output_type": "stream",
     "text": [
      "For index 32 with s_n, t, r_n = (-0.9714965233992534, -0.6939260881423239, -0.37781167) and us_n, ut, urn = (-1.221749956794178, -1.039481147872558, -0.6483995290204754),\n",
      " optimal kappa pairs: (array([400. ,   1.1]), array([400.        ,   3.29000977])) and optimal p_c: (0.894736842105263, 0.05263157894736842)\n",
      "\n",
      "\n"
     ]
    },
    {
     "data": {
      "image/png": "[encoded data removed]",
      "text/plain": [
       "<Figure size 432x288 with 1 Axes>"
      ]
     },
     "metadata": {
      "needs_background": "light"
     },
     "output_type": "display_data"
    },
    {
     "data": {
      "image/png": "[encoded data removed]",
      "text/plain": [
       "<Figure size 432x288 with 1 Axes>"
      ]
     },
     "metadata": {
      "needs_background": "light"
     },
     "output_type": "display_data"
    },
    {
     "data": {
      "image/png": "[encoded data removed]",
      "text/plain": [
       "<Figure size 432x288 with 1 Axes>"
      ]
     },
     "metadata": {
      "needs_background": "light"
     },
     "output_type": "display_data"
    },
    {
     "data": {
      "image/png": "[encoded data removed]",
      "text/plain": [
       "<Figure size 432x288 with 1 Axes>"
      ]
     },
     "metadata": {
      "needs_background": "light"
     },
     "output_type": "display_data"
    },
    {
     "data": {
      "text/plain": [
       "<Figure size 432x288 with 0 Axes>"
      ]
     },
     "metadata": {},
     "output_type": "display_data"
    }
   ],
   "source": [
    "num_to_analyse = 2\n",
    "est = 'sn'\n",
    "for i in range(num_to_analyse):\n",
    "    idx = high_error_idxs[est][i]\n",
    "    sni, ti, rni = s_ns[idx], ts[idx], r_ns[idx]\n",
    "    urni = unif_map.angle_space_to_unif_space(rni)\n",
    "    usni, uti = usns[idx], uts[idx]\n",
    "    assert (np.allclose(np.array([usni, uti]), unif_map.angle_space_to_unif_space([sni, ti])))\n",
    "    optimal_kappa_pair_sn = optimal_kappa_pairs_arr['sn'][idx]\n",
    "    optimal_kappa_pair_t = optimal_kappa_pairs_arr['t'][idx]\n",
    "    pc_sn = optimal_pc['sn'][idx]\n",
    "    pc_t = optimal_pc['t'][idx]\n",
    "    print(f'For index {idx} with s_n, t, r_n = {sni, ti, rni} and us_n, ut, urn = {usni, uti, urni},\\n optimal kappa pairs: {optimal_kappa_pair_sn, optimal_kappa_pair_t} and optimal p_c: {pc_sn, pc_t}\\n\\n')\n",
    "    # 1. run VM samples of the 2 distributions and plot the distributions\n",
    "    # kappa1, kappa2 = np.array([optimal_kappa_pair_sn[0]]), np.array([optimal_kappa_pair_sn[1]])\n",
    "    # kappa1, kappa2 = np.array([700.]), np.array([1.])\n",
    "    kappa1, kappa2, pc_i = np.array([100.]), np.array([99.]), .5\n",
    "    ut_samples, usn_samples = causal_inference_estimator.get_vm_samples(\n",
    "        num_sim=10000,\n",
    "        mu_t=np.array([uti]),\n",
    "        mu_s_n=np.array([usni]),\n",
    "        kappa1=kappa1,\n",
    "        kappa2=kappa2)\n",
    "    plt.hist(usn_samples[:, 0,0], bins=100, alpha=0.5, label='us_n samples')\n",
    "    plt.hist(ut_samples[:, 0,0], bins=100, alpha=0.5, label='ut samples')\n",
    "    plt.legend()    \n",
    "    plt.show()\n",
    "    plt.clf()\n",
    "    # 2. run Causal Inference in internal space for ut, us_n samples and plot the distributions of the optimal estimate for each sample\n",
    "    responses, posterior_p_common, mean_t_est, mean_sn_est = causal_inference_estimator.forward(t_samples=ut_samples,\n",
    "        s_n_samples=usn_samples, \n",
    "                                        kappa1=kappa1, \n",
    "                                        kappa2=kappa2, \n",
    "                                        p_common=pc_i)\n",
    "    plt.hist(responses[0][:, 0,0], label='t est', alpha=.5)\n",
    "    plt.hist(responses[1][:, 0, 0], label='s_n est', alpha=.5)\n",
    "    plt.vlines(rni, 0, 5000, label='r_n', color='r')\n",
    "    plt.vlines(mean_t_est[0,0], 0, 5000, label='mean t est', color='g')\n",
    "    plt.vlines(mean_sn_est[0,0], 0, 5000, label='mean s_n est', color='b')\n",
    "    plt.legend()    \n",
    "    plt.show()\n",
    "    plt.clf()\n",
    "    # 3. for testing purpose: run Causal inference using means and other randomly generated samples\n",
    "    responses_, posterior_p_common_, mean_t_est_, mean_sn_est_ = causal_inference_estimator.forward_from_means(mu_t=np.array([uti]),\n",
    "                                                                                                               mu_s_n=np.array([usni]), \n",
    "                                        kappa1=kappa1, \n",
    "                                        kappa2=kappa2, \n",
    "                                        p_common=pc_i,\n",
    "                                        num_sim=10000)\n",
    "    plt.hist(responses[0][:, 0,0], label='t est', alpha=.4)\n",
    "    # plt.hist(responses_[0][:, 0,0], label='t est fwd', alpha=.4)\n",
    "    # 4. plot seggregated estimates for the regressor cue\n",
    "    # 5. plot the cue combination estimates for all samples\n",
    "    segg_estimate = causal_inference_estimator.model.segregation_estimate(x=ut_samples, sigma=kappa1, mu_p=None, sigma_p=None)\n",
    "    fusion_estimate = causal_inference_estimator.model.fusion_estimate(x_v=ut_samples, x_a=usn_samples, \n",
    "                                                                       sigma_v=kappa1.reshape((1,1)), \n",
    "                                                                       sigma_a=kappa2.reshape((1,1)), \n",
    "                                                                       mu_p=None, sigma_p=None)\n",
    "    plt.hist(segg_estimate[:, 0, 0], label='segg estimate t', alpha=.4)\n",
    "    plt.hist(fusion_estimate[:, 0, 0], label='fusion estimate', alpha=.4)\n",
    "    #plt.hist(unif_map.unif_space_to_angle_space(ut_samples)[:,0,0], label='U^{-1}(VM(t, kappa1))', alpha=.5)\n",
    "    plt.legend()\n",
    "    plt.show()\n",
    "   \n",
    "    plt.clf()\n",
    "    # 6. plot the distribution of responses from the forward model vs the distribution of responses from the causal inference model above\n",
    "    plt.hist(responses_[1][:, 0, 0], label='s_n est fwd', alpha=.5)\n",
    "    plt.hist(responses[1][:, 0, 0], label='s_n est', alpha=.5)\n",
    "    plt.legend()    \n",
    "    plt.show()\n",
    "    plt.clf()"
   ]
  }
 ],
 "metadata": {
  "kernelspec": {
   "display_name": "Python 3",
   "language": "python",
   "name": "python3"
  },
  "language_info": {
   "codemirror_mode": {
    "name": "ipython",
    "version": 3
   },
   "file_extension": ".py",
   "mimetype": "text/x-python",
   "name": "python",
   "nbconvert_exporter": "python",
   "pygments_lexer": "ipython3",
   "version": "3.9.2"
  }
 },
 "nbformat": 4,
 "nbformat_minor": 2
}
