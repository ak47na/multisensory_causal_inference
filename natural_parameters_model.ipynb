{
 "cells": [
  {
   "cell_type": "markdown",
   "metadata": {},
   "source": [
    "# Causal Inference in Internal space using natural parameters and assuming Angle space responses"
   ]
  },
  {
   "cell_type": "code",
   "execution_count": null,
   "metadata": {},
   "outputs": [],
   "source": [
    "%load_ext autoreload\n",
    "%autoreload 2\n",
    "\n",
    "import numpy as np\n",
    "from scipy.stats import vonmises\n",
    "from custom_causal_inference import CustomCausalInference\n",
    "import utils\n",
    "import plots\n",
    "import forward_models_causal_inference"
   ]
  },
  {
   "cell_type": "markdown",
   "metadata": {},
   "source": [
    "## Setup"
   ]
  },
  {
   "cell_type": "code",
   "execution_count": 3,
   "metadata": {},
   "outputs": [
    {
     "data": {
      "text/plain": [
       "<Figure size 576x432 with 0 Axes>"
      ]
     },
     "metadata": {},
     "output_type": "display_data"
    }
   ],
   "source": [
    "num_sim = 1000\n",
    "D = 250  # grid dimension \n",
    "angle_gam_data_path = 'D:/AK_Q1_2024/Gatsby/data/base_bayesian_contour_1_circular_gam/base_bayesian_contour_1_circular_gam.pkl'\n",
    "unif_fn_data_path='D:/AK_Q1_2024/Gatsby/uniform_model_base_inv_kappa_free.pkl'\n",
    "p_commons = [0, .2, .5, .7, 1]\n",
    "\n",
    "# Initialise mean parameters causal inference model for comparison\n",
    "causal_inference_estimator = forward_models_causal_inference.CausalEstimator(\n",
    "    model=CustomCausalInference(decision_rule='mean'),\n",
    "    angle_gam_data_path=angle_gam_data_path,\n",
    "    unif_fn_data_path=unif_fn_data_path)\n",
    "unif_map = causal_inference_estimator.unif_map"
   ]
  },
  {
   "cell_type": "markdown",
   "metadata": {},
   "source": [
    "## Select the means of cues used for causal inference and the \"ground-truth\" corresponding responses "
   ]
  },
  {
   "cell_type": "markdown",
   "metadata": {},
   "source": [
    "Get the s_n, t, r_n(s_n, t) values of interest"
   ]
  },
  {
   "cell_type": "code",
   "execution_count": 4,
   "metadata": {},
   "outputs": [
    {
     "data": {
      "text/plain": [
       "((250, 250), (250, 250), (250, 250))"
      ]
     },
     "execution_count": 4,
     "metadata": {},
     "output_type": "execute_result"
    }
   ],
   "source": [
    "s_n, t, r_n = utils.get_s_n_and_t(causal_inference_estimator.grid, \n",
    "                                   causal_inference_estimator.gam_data)\n",
    "s_n.shape, t.shape, r_n.shape"
   ]
  },
  {
   "cell_type": "markdown",
   "metadata": {},
   "source": [
    "Further filter the values of s_n, t considered (and r_n implicitly) for faster simulations"
   ]
  },
  {
   "cell_type": "code",
   "execution_count": 5,
   "metadata": {},
   "outputs": [
    {
     "data": {
      "image/png": "[encoded data removed]",
      "text/plain": [
       "<Figure size 576x432 with 2 Axes>"
      ]
     },
     "metadata": {
      "needs_background": "light"
     },
     "output_type": "display_data"
    },
    {
     "data": {
      "text/plain": [
       "<Figure size 432x288 with 0 Axes>"
      ]
     },
     "metadata": {},
     "output_type": "display_data"
    }
   ],
   "source": [
    "num_means = 4\n",
    "step=len(s_n)//num_means\n",
    "indices = np.arange(0, s_n.shape[0], step=step)\n",
    "mu_x_dim = len(indices)\n",
    "s_n = s_n[indices][:, indices]\n",
    "t = t[indices][:, indices]\n",
    "r_n = r_n[indices][:, indices]\n",
    "plots.heatmap_f_s_n_t(f_s_n_t=r_n, s_n=s_n, t=t, f_name='r_n')"
   ]
  },
  {
   "cell_type": "code",
   "execution_count": 5,
   "metadata": {},
   "outputs": [
    {
     "data": {
      "text/plain": [
       "((5, 5), (5, 5))"
      ]
     },
     "execution_count": 5,
     "metadata": {},
     "output_type": "execute_result"
    }
   ],
   "source": [
    "s_n.shape, t.shape"
   ]
  },
  {
   "cell_type": "markdown",
   "metadata": {},
   "source": [
    "## Causal inference"
   ]
  },
  {
   "cell_type": "markdown",
   "metadata": {},
   "source": [
    "### Convert means to internal space"
   ]
  },
  {
   "cell_type": "code",
   "execution_count": 6,
   "metadata": {},
   "outputs": [
    {
     "name": "stdout",
     "output_type": "stream",
     "text": [
      "Performing causal inference for ut, u_s_n of shape ((25,), (25,))\n"
     ]
    }
   ],
   "source": [
    "s_n, t, r_n = s_n.flatten(), t.flatten(), r_n.flatten()\n",
    "us_n = unif_map.angle_space_to_unif_space(s_n)\n",
    "ut = unif_map.angle_space_to_unif_space(t)\n",
    "print(f'Performing causal inference for ut, u_s_n of shape {ut.shape, us_n.shape}')"
   ]
  },
  {
   "cell_type": "markdown",
   "metadata": {},
   "source": [
    "### Create the grid and the prior over natural parameters"
   ]
  },
  {
   "cell_type": "code",
   "execution_count": 36,
   "metadata": {},
   "outputs": [
    {
     "name": "stdout",
     "output_type": "stream",
     "text": [
      "(250, 100, 2)\n"
     ]
    },
    {
     "data": {
      "text/plain": [
       "((250,), (100,), (25000, 2), (25000,), (25000,))"
      ]
     },
     "execution_count": 36,
     "metadata": {},
     "output_type": "execute_result"
    }
   ],
   "source": [
    "def get_nat_params(mus, kappas):\n",
    "    \"\"\"\n",
    "    Computes the natural parameters eta = kappa * [cos(mu), sin(mu)] for all combinations of mu and kappa.\n",
    "\n",
    "    Parameters:\n",
    "    - mus: Array of mu values, shape (M,)\n",
    "    - kappas: Array of kappa values, shape (K,)\n",
    "\n",
    "    Returns:\n",
    "    - nat_params: Natural parameters, shape (M, K, 2)\n",
    "    \"\"\"\n",
    "    # Create meshgrid of mu and kappa\n",
    "    mu_grid, kappa_grid = np.meshgrid(mus, kappas, indexing='ij')  # shape (M, K)\n",
    "\n",
    "    # Compute cos(mu) and sin(mu)\n",
    "    cos_mu = np.cos(mu_grid)  # shape (M, K)\n",
    "    sin_mu = np.sin(mu_grid)  # shape (M, K)\n",
    "    # Compute eta components\n",
    "    eta_x = kappa_grid * cos_mu  # shape (M, K)\n",
    "    eta_y = kappa_grid * sin_mu  # shape (M, K)\n",
    "    # Stack eta_x and eta_y into nat_params\n",
    "    nat_params = np.stack((eta_x, eta_y), axis=-1)  # shape (M, K, 2)\n",
    "\n",
    "    return nat_params\n",
    "\n",
    "def get_uniform_eta_prior(etas):\n",
    "    \"\"\"\n",
    "    Computes a uniform prior over eta.\n",
    "\n",
    "    Parameters:\n",
    "    - etas: Natural parameters, shape (E, 2)\n",
    "\n",
    "    Returns:\n",
    "    - prior: Uniform prior, shape (E,)\n",
    "    \"\"\"\n",
    "    E = etas.shape[0]\n",
    "    return np.ones(E) / E\n",
    "\n",
    "def get_fixed_prior(etas, kappa_idx):\n",
    "    \"\"\"\n",
    "    Generates a probability distribution over eta vectors, that is uniform across means and nonzero only for the kappa_idx'th kappa.\n",
    "\n",
    "    This function creates a prior `p` over the flattened eta vectors, where only the eta vectors at a specified\n",
    "    `kappa_idx` along the kappa dimension have non-zero probabilities. The non-zero probabilities are uniformly\n",
    "    distributed across the mu dimension at the specified kappa index.\n",
    "\n",
    "    Parameters:\n",
    "    - etas: numpy.ndarray\n",
    "        A 3-dimensional array of natural parameters eta, with shape `(num_mu, num_kappa, D)`, where:\n",
    "        - `num_mu` is the number of mu values,\n",
    "        - `num_kappa` is the number of kappa values,\n",
    "        - `D` is the dimensionality of the eta vectors (typically `D=2`).\n",
    "    - kappa_idx: int\n",
    "        The index along the kappa dimension to which the prior is fixed.\n",
    "\n",
    "    Returns:\n",
    "    - p: numpy.ndarray\n",
    "        A 1-dimensional array of prior probabilities over eta vectors, flattened to shape `(num_mu * num_kappa,)`.\n",
    "        The prior probabilities are zero except for the eta vectors at the specified `kappa_idx`, which are set\n",
    "        to `1 / num_mu`.\n",
    "    \"\"\"\n",
    "    assert (etas.ndim == 3)\n",
    "    p = np.zeros(etas.shape[:-1])\n",
    "    p[:, kappa_idx] = 1 / etas.shape[0]\n",
    "    return p.reshape(-1,)\n",
    "\n",
    "# Generate kappas and mus\n",
    "kappas = np.logspace(start=0, stop=np.log10(500), num=100, base=10)\n",
    "mus = np.linspace(-np.pi, np.pi, num=250)\n",
    "\n",
    "# Compute natural parameters and prior\n",
    "etas = get_nat_params(mus, kappas)\n",
    "print(etas.shape)\n",
    "kappa_idx1, kappa_idx2 = 30, 60\n",
    "prior_eta_kappa_idx1 = get_fixed_prior(etas, kappa_idx=kappa_idx1)\n",
    "prior_eta_kappa_idx2 = get_fixed_prior(etas, kappa_idx=kappa_idx2)\n",
    "etas = etas.reshape((-1, 2))\n",
    "unif_prior_eta = get_uniform_eta_prior(etas)\n",
    "mus.shape, kappas.shape, etas.shape, unif_prior_eta.shape, prior_eta_kappa_idx1.shape"
   ]
  },
  {
   "cell_type": "code",
   "execution_count": 37,
   "metadata": {},
   "outputs": [
    {
     "data": {
      "text/plain": [
       "(1.0000000000000007, 1.0000000000000007, 1.000000000000437)"
      ]
     },
     "execution_count": 37,
     "metadata": {},
     "output_type": "execute_result"
    }
   ],
   "source": [
    "sum(prior_eta_kappa_idx1), sum(prior_eta_kappa_idx2), sum(unif_prior_eta)"
   ]
  },
  {
   "cell_type": "markdown",
   "metadata": {},
   "source": [
    "### Compute the posterior over $\\eta$\n",
    "\n",
    "Note that the posteriors are determined proportionally, hence we need to normalise by performing the integration over $\\boldsymbol{\\eta}$. For now*, in the code below, we approximate normalisation by dividing by the sum of the product of probabilities across the discrete set of $\\boldsymbol{\\eta}$ parameters used.\n",
    "\n",
    "1. $p(\\boldsymbol{\\eta} \\vert \\boldsymbol{s_1}, \\boldsymbol{s_2}, C=1) \\propto p(\\boldsymbol{s_1} \\mid \\boldsymbol{\\eta})p(\\boldsymbol{s_2} \\mid \\boldsymbol{\\eta})p(\\boldsymbol{\\eta})$\n",
    "\n",
    "2. $p(\\boldsymbol{\\eta_i} \\vert \\boldsymbol{s_i}, C=2) \\propto p(\\boldsymbol{s_i} \\mid \\boldsymbol{\\eta_i})p(\\boldsymbol{\\eta_i})$"
   ]
  },
  {
   "cell_type": "code",
   "execution_count": 38,
   "metadata": {},
   "outputs": [],
   "source": [
    "def get_p_eta_common_cause(p_eta, etas, s_1, s_2):\n",
    "    \"\"\"\n",
    "    Computes the normalized posterior probabilities p(eta | s_1, s_2)\n",
    "    for the common cause scenario when s_1 and s_2 are 1D arrays.\n",
    "\n",
    "    Parameters:\n",
    "    - p_eta: Prior probabilities over eta, shape (e,)\n",
    "    - etas: Natural parameters, shape (e, 2)\n",
    "    - s_1: Observations from the first cue, shape (n,)\n",
    "    - s_2: Observations from the second cue, shape (n,)\n",
    "\n",
    "    Returns:\n",
    "    - p_eta_given_s1_s2_normalized: Normalized posterior probabilities, shape (n, e)\n",
    "    \"\"\"\n",
    "    # Compute mu and kappa from etas\n",
    "    mu = np.arctan2(etas[:, 1], etas[:, 0])       # shape (e,)\n",
    "    kappa = np.linalg.norm(etas, axis=1)          # shape (e,)\n",
    "\n",
    "    # Reshape s_1 and s_2 for broadcasting\n",
    "    s_1 = s_1[:, np.newaxis]                      # shape (n, 1)\n",
    "    s_2 = s_2[:, np.newaxis]                      # shape (n, 1)\n",
    "\n",
    "    # Reshape mu and kappa for broadcasting\n",
    "    mu = mu[np.newaxis, :]                        # shape (1, e)\n",
    "    kappa = kappa[np.newaxis, :]                  # shape (1, e)\n",
    "\n",
    "    # Compute the Von Mises PDF for s_1 and s_2\n",
    "    vm_pdf_s1 = vonmises.pdf(s_1, kappa, loc=mu)  # shape (n, e)\n",
    "    vm_pdf_s2 = vonmises.pdf(s_2, kappa, loc=mu)  # shape (n, e)\n",
    "\n",
    "    # Reshape p_eta for broadcasting\n",
    "    p_eta = p_eta[np.newaxis, :]                  # shape (1, e)\n",
    "\n",
    "    # Compute the unnormalized posterior probabilities\n",
    "    unnormalized_posterior = vm_pdf_s1 * vm_pdf_s2 * p_eta  # shape (n, e)\n",
    "\n",
    "    # Compute the sum over eta to normalize\n",
    "    sum_over_eta = np.sum(unnormalized_posterior, axis=1, keepdims=True)  # shape (n, 1)\n",
    "\n",
    "    # Avoid division by zero\n",
    "    sum_over_eta[sum_over_eta == 0] = 1e-10\n",
    "\n",
    "    # Normalize the posterior probabilities\n",
    "    p_eta_given_s1_s2_normalized = unnormalized_posterior / sum_over_eta  # shape (n, e)\n",
    "\n",
    "    return p_eta_given_s1_s2_normalized\n",
    "\n",
    "def get_p_eta_separate_cause(p_eta, etas, s):\n",
    "    \"\"\"\n",
    "    Computes the normalized posterior probabilities p(eta | s)\n",
    "    for the separate cause scenario when s is a 1D array.\n",
    "\n",
    "    Parameters:\n",
    "    - p_eta: Prior probabilities over eta, shape (e,)\n",
    "    - etas: Natural parameters, shape (e, 2)\n",
    "    - s: Observations, shape (n,)\n",
    "\n",
    "    Returns:\n",
    "    - p_eta_given_s_normalized: Normalized posterior probabilities, shape (n, e)\n",
    "    \"\"\"\n",
    "    # Compute mu and kappa from etas\n",
    "    mu = np.arctan2(etas[:, 1], etas[:, 0])       # shape (e,)\n",
    "    kappa = np.linalg.norm(etas, axis=1)          # shape (e,)\n",
    "\n",
    "    # Reshape s for broadcasting\n",
    "    s = s[:, np.newaxis]                          # shape (n, 1)\n",
    "\n",
    "    # Reshape mu and kappa for broadcasting\n",
    "    mu = mu[np.newaxis, :]                        # shape (1, e)\n",
    "    kappa = kappa[np.newaxis, :]                  # shape (1, e)\n",
    "\n",
    "    # Compute the Von Mises PDF for s\n",
    "    vm_pdf_s = vonmises.pdf(s, kappa, loc=mu)     # shape (n, e)\n",
    "\n",
    "    # Reshape p_eta for broadcasting\n",
    "    p_eta = p_eta[np.newaxis, :]                  # shape (1, e)\n",
    "\n",
    "    # Compute the unnormalized posterior probabilities\n",
    "    unnormalized_posterior = vm_pdf_s * p_eta     # shape (n, e)\n",
    "\n",
    "    # Compute the sum over eta to normalize\n",
    "    sum_over_eta = np.sum(unnormalized_posterior, axis=1, keepdims=True)  # shape (n, 1)\n",
    "\n",
    "    # Avoid division by zero\n",
    "    sum_over_eta[sum_over_eta == 0] = 1e-10\n",
    "\n",
    "    # Normalize the posterior probabilities\n",
    "    p_eta_given_s_normalized = unnormalized_posterior / sum_over_eta      # shape (n, e)\n",
    "\n",
    "    return p_eta_given_s_normalized\n",
    "\n",
    "def get_expected_value(p_eta, eta):\n",
    "    \"\"\"\n",
    "    Computes the expected value of eta under the probability distribution p_eta.\n",
    "\n",
    "    Parameters:\n",
    "    - p_eta: Array of probabilities over eta, shape (E,)\n",
    "      Represents the probability distribution over eta vectors.\n",
    "    - eta: Array of eta vectors, shape (E, D)\n",
    "      Each row eta[i, :] is an eta vector of dimensionality D.\n",
    "\n",
    "    Returns:\n",
    "    - expected_value: The expected value of eta under p_eta, shape (D,)\n",
    "      Calculated as the weighted (by p_eta) sum of eta vectors.\n",
    "    \"\"\"\n",
    "    return p_eta.reshape(-1, 1)*eta.sum(axis=0)"
   ]
  },
  {
   "cell_type": "code",
   "execution_count": 39,
   "metadata": {},
   "outputs": [],
   "source": [
    "eta_priors = {'unif_prior': unif_prior_eta,\n",
    "              'kappa_idx1': prior_eta_kappa_idx1,\n",
    "              'kappa_idx2': prior_eta_kappa_idx2}\n",
    "eta_posteriors = {}"
   ]
  },
  {
   "cell_type": "code",
   "execution_count": 40,
   "metadata": {},
   "outputs": [],
   "source": [
    "for eta_prior_type in eta_priors:\n",
    "    eta_posteriors[eta_prior_type] = {}\n",
    "    eta_prior = eta_priors[eta_prior_type]\n",
    "    p_eta_common_cause = get_p_eta_common_cause(p_eta=eta_prior, etas=etas,\n",
    "                                            s_1=ut, s_2=us_n).reshape((mu_x_dim, mu_x_dim, -1))\n",
    "    p_eta_separate_cause_t = get_p_eta_separate_cause(p_eta=eta_prior, etas=etas,\n",
    "                                                s=ut).reshape((mu_x_dim, mu_x_dim, -1))\n",
    "    p_eta_separate_cause_s = get_p_eta_separate_cause(p_eta=eta_prior, etas=etas,\n",
    "                                                s=us_n).reshape((mu_x_dim, mu_x_dim, -1))\n",
    "    eta_posteriors[eta_prior_type]['p_eta_common_cause'] = p_eta_common_cause\n",
    "    eta_posteriors[eta_prior_type]['p_eta_separate_cause_t'] = p_eta_separate_cause_t\n",
    "    eta_posteriors[eta_prior_type]['p_eta_separate_cause_s'] = p_eta_separate_cause_s"
   ]
  },
  {
   "cell_type": "code",
   "execution_count": 52,
   "metadata": {},
   "outputs": [
    {
     "name": "stdout",
     "output_type": "stream",
     "text": [
      "mean of p(eta|s_n, C=2) for unif_prior: ||eta|| = 87.81438264399918, eta_angle=-3.1335471933000085, u_t = -3.132328046463897, u_s_n=-3.132328046463897\n",
      "mean of p(eta|s_n, C=2) for kappa_idx1: ||eta|| = 6.064495773288972, eta_angle=-3.132575638576336, u_t = -3.132328046463897, u_s_n=-3.132328046463897\n",
      "mean of p(eta|s_n, C=2) for kappa_idx2: ||eta|| = 42.75345104669893, eta_angle=-3.1329069002580043, u_t = -3.132328046463897, u_s_n=-3.132328046463897\n",
      "mean of p(eta|s_n, C=2) for unif_prior: ||eta|| = 81.46326285805036, eta_angle=-1.5826015362804586, u_t = -3.132328046463897, u_s_n=-1.5825920017703348\n",
      "mean of p(eta|s_n, C=2) for kappa_idx1: ||eta|| = 6.05138226348071, eta_angle=-1.5826334147715009, u_t = -3.132328046463897, u_s_n=-1.5825920017703348\n",
      "mean of p(eta|s_n, C=2) for kappa_idx2: ||eta|| = 42.722476136855434, eta_angle=-1.5825920017703348, u_t = -3.132328046463897, u_s_n=-1.5825920017703348\n",
      "mean of p(eta|s_n, C=2) for unif_prior: ||eta|| = 81.49076712126524, eta_angle=0.05616163826253321, u_t = -3.132328046463897, u_s_n=0.05616155368553866\n",
      "mean of p(eta|s_n, C=2) for kappa_idx1: ||eta|| = 6.051609361416964, eta_angle=0.05616155671862867, u_t = -3.132328046463897, u_s_n=0.05616155368553866\n",
      "mean of p(eta|s_n, C=2) for kappa_idx2: ||eta|| = 42.722476136855434, eta_angle=0.056161553685538664, u_t = -3.132328046463897, u_s_n=0.05616155368553866\n",
      "mean of p(eta|s_n, C=2) for unif_prior: ||eta|| = 81.45679289563039, eta_angle=1.6757937661474858, u_t = -3.132328046463897, u_s_n=1.6757819928537376\n",
      "mean of p(eta|s_n, C=2) for kappa_idx1: ||eta|| = 6.051233256106376, eta_angle=1.6758579035602585, u_t = -3.132328046463897, u_s_n=1.6757819928537376\n",
      "mean of p(eta|s_n, C=2) for kappa_idx2: ||eta|| = 42.722476136855455, eta_angle=1.6757819928537376, u_t = -3.132328046463897, u_s_n=1.6757819928537376\n",
      "mean of p(eta|s_n, C=2) for unif_prior: ||eta|| = 86.14823888608029, eta_angle=3.10622066044623, u_t = -3.132328046463897, u_s_n=3.1019386538799694\n",
      "mean of p(eta|s_n, C=2) for kappa_idx1: ||eta|| = 6.064317811066462, eta_angle=3.10299311876781, u_t = -3.132328046463897, u_s_n=3.1019386538799694\n",
      "mean of p(eta|s_n, C=2) for kappa_idx2: ||eta|| = 42.75072074238903, eta_angle=3.104342169454807, u_t = -3.132328046463897, u_s_n=3.1019386538799694\n",
      "mean of p(eta|s_n, C=2) for unif_prior: ||eta|| = 87.81438264399918, eta_angle=-3.1335471933000085, u_t = -1.5825920017703348, u_s_n=-3.132328046463897\n",
      "mean of p(eta|s_n, C=2) for kappa_idx1: ||eta|| = 6.064495773288972, eta_angle=-3.132575638576336, u_t = -1.5825920017703348, u_s_n=-3.132328046463897\n",
      "mean of p(eta|s_n, C=2) for kappa_idx2: ||eta|| = 42.75345104669893, eta_angle=-3.1329069002580043, u_t = -1.5825920017703348, u_s_n=-3.132328046463897\n",
      "mean of p(eta|s_n, C=2) for unif_prior: ||eta|| = 81.46326285805036, eta_angle=-1.5826015362804586, u_t = -1.5825920017703348, u_s_n=-1.5825920017703348\n",
      "mean of p(eta|s_n, C=2) for kappa_idx1: ||eta|| = 6.05138226348071, eta_angle=-1.5826334147715009, u_t = -1.5825920017703348, u_s_n=-1.5825920017703348\n",
      "mean of p(eta|s_n, C=2) for kappa_idx2: ||eta|| = 42.722476136855434, eta_angle=-1.5825920017703348, u_t = -1.5825920017703348, u_s_n=-1.5825920017703348\n",
      "mean of p(eta|s_n, C=2) for unif_prior: ||eta|| = 81.49076712126524, eta_angle=0.05616163826253321, u_t = -1.5825920017703348, u_s_n=0.05616155368553866\n",
      "mean of p(eta|s_n, C=2) for kappa_idx1: ||eta|| = 6.051609361416964, eta_angle=0.05616155671862867, u_t = -1.5825920017703348, u_s_n=0.05616155368553866\n",
      "mean of p(eta|s_n, C=2) for kappa_idx2: ||eta|| = 42.722476136855434, eta_angle=0.056161553685538664, u_t = -1.5825920017703348, u_s_n=0.05616155368553866\n",
      "mean of p(eta|s_n, C=2) for unif_prior: ||eta|| = 81.45679289563039, eta_angle=1.6757937661474858, u_t = -1.5825920017703348, u_s_n=1.6757819928537376\n",
      "mean of p(eta|s_n, C=2) for kappa_idx1: ||eta|| = 6.051233256106376, eta_angle=1.6758579035602585, u_t = -1.5825920017703348, u_s_n=1.6757819928537376\n",
      "mean of p(eta|s_n, C=2) for kappa_idx2: ||eta|| = 42.722476136855455, eta_angle=1.6757819928537376, u_t = -1.5825920017703348, u_s_n=1.6757819928537376\n",
      "mean of p(eta|s_n, C=2) for unif_prior: ||eta|| = 86.14823888608029, eta_angle=3.10622066044623, u_t = -1.5825920017703348, u_s_n=3.1019386538799694\n",
      "mean of p(eta|s_n, C=2) for kappa_idx1: ||eta|| = 6.064317811066462, eta_angle=3.10299311876781, u_t = -1.5825920017703348, u_s_n=3.1019386538799694\n",
      "mean of p(eta|s_n, C=2) for kappa_idx2: ||eta|| = 42.75072074238903, eta_angle=3.104342169454807, u_t = -1.5825920017703348, u_s_n=3.1019386538799694\n",
      "mean of p(eta|s_n, C=2) for unif_prior: ||eta|| = 87.81438264399918, eta_angle=-3.1335471933000085, u_t = 0.05616155368553866, u_s_n=-3.132328046463897\n",
      "mean of p(eta|s_n, C=2) for kappa_idx1: ||eta|| = 6.064495773288972, eta_angle=-3.132575638576336, u_t = 0.05616155368553866, u_s_n=-3.132328046463897\n",
      "mean of p(eta|s_n, C=2) for kappa_idx2: ||eta|| = 42.75345104669893, eta_angle=-3.1329069002580043, u_t = 0.05616155368553866, u_s_n=-3.132328046463897\n",
      "mean of p(eta|s_n, C=2) for unif_prior: ||eta|| = 81.46326285805036, eta_angle=-1.5826015362804586, u_t = 0.05616155368553866, u_s_n=-1.5825920017703348\n",
      "mean of p(eta|s_n, C=2) for kappa_idx1: ||eta|| = 6.05138226348071, eta_angle=-1.5826334147715009, u_t = 0.05616155368553866, u_s_n=-1.5825920017703348\n",
      "mean of p(eta|s_n, C=2) for kappa_idx2: ||eta|| = 42.722476136855434, eta_angle=-1.5825920017703348, u_t = 0.05616155368553866, u_s_n=-1.5825920017703348\n",
      "mean of p(eta|s_n, C=2) for unif_prior: ||eta|| = 81.49076712126524, eta_angle=0.05616163826253321, u_t = 0.05616155368553866, u_s_n=0.05616155368553866\n",
      "mean of p(eta|s_n, C=2) for kappa_idx1: ||eta|| = 6.051609361416964, eta_angle=0.05616155671862867, u_t = 0.05616155368553866, u_s_n=0.05616155368553866\n",
      "mean of p(eta|s_n, C=2) for kappa_idx2: ||eta|| = 42.722476136855434, eta_angle=0.056161553685538664, u_t = 0.05616155368553866, u_s_n=0.05616155368553866\n",
      "mean of p(eta|s_n, C=2) for unif_prior: ||eta|| = 81.45679289563039, eta_angle=1.6757937661474858, u_t = 0.05616155368553866, u_s_n=1.6757819928537376\n",
      "mean of p(eta|s_n, C=2) for kappa_idx1: ||eta|| = 6.051233256106376, eta_angle=1.6758579035602585, u_t = 0.05616155368553866, u_s_n=1.6757819928537376\n",
      "mean of p(eta|s_n, C=2) for kappa_idx2: ||eta|| = 42.722476136855455, eta_angle=1.6757819928537376, u_t = 0.05616155368553866, u_s_n=1.6757819928537376\n",
      "mean of p(eta|s_n, C=2) for unif_prior: ||eta|| = 86.14823888608029, eta_angle=3.10622066044623, u_t = 0.05616155368553866, u_s_n=3.1019386538799694\n",
      "mean of p(eta|s_n, C=2) for kappa_idx1: ||eta|| = 6.064317811066462, eta_angle=3.10299311876781, u_t = 0.05616155368553866, u_s_n=3.1019386538799694\n",
      "mean of p(eta|s_n, C=2) for kappa_idx2: ||eta|| = 42.75072074238903, eta_angle=3.104342169454807, u_t = 0.05616155368553866, u_s_n=3.1019386538799694\n",
      "mean of p(eta|s_n, C=2) for unif_prior: ||eta|| = 87.81438264399918, eta_angle=-3.1335471933000085, u_t = 1.6757819928537376, u_s_n=-3.132328046463897\n",
      "mean of p(eta|s_n, C=2) for kappa_idx1: ||eta|| = 6.064495773288972, eta_angle=-3.132575638576336, u_t = 1.6757819928537376, u_s_n=-3.132328046463897\n",
      "mean of p(eta|s_n, C=2) for kappa_idx2: ||eta|| = 42.75345104669893, eta_angle=-3.1329069002580043, u_t = 1.6757819928537376, u_s_n=-3.132328046463897\n",
      "mean of p(eta|s_n, C=2) for unif_prior: ||eta|| = 81.46326285805036, eta_angle=-1.5826015362804586, u_t = 1.6757819928537376, u_s_n=-1.5825920017703348\n",
      "mean of p(eta|s_n, C=2) for kappa_idx1: ||eta|| = 6.05138226348071, eta_angle=-1.5826334147715009, u_t = 1.6757819928537376, u_s_n=-1.5825920017703348\n",
      "mean of p(eta|s_n, C=2) for kappa_idx2: ||eta|| = 42.722476136855434, eta_angle=-1.5825920017703348, u_t = 1.6757819928537376, u_s_n=-1.5825920017703348\n",
      "mean of p(eta|s_n, C=2) for unif_prior: ||eta|| = 81.49076712126524, eta_angle=0.05616163826253321, u_t = 1.6757819928537376, u_s_n=0.05616155368553866\n",
      "mean of p(eta|s_n, C=2) for kappa_idx1: ||eta|| = 6.051609361416964, eta_angle=0.05616155671862867, u_t = 1.6757819928537376, u_s_n=0.05616155368553866\n",
      "mean of p(eta|s_n, C=2) for kappa_idx2: ||eta|| = 42.722476136855434, eta_angle=0.056161553685538664, u_t = 1.6757819928537376, u_s_n=0.05616155368553866\n",
      "mean of p(eta|s_n, C=2) for unif_prior: ||eta|| = 81.45679289563039, eta_angle=1.6757937661474858, u_t = 1.6757819928537376, u_s_n=1.6757819928537376\n",
      "mean of p(eta|s_n, C=2) for kappa_idx1: ||eta|| = 6.051233256106376, eta_angle=1.6758579035602585, u_t = 1.6757819928537376, u_s_n=1.6757819928537376\n",
      "mean of p(eta|s_n, C=2) for kappa_idx2: ||eta|| = 42.722476136855455, eta_angle=1.6757819928537376, u_t = 1.6757819928537376, u_s_n=1.6757819928537376\n",
      "mean of p(eta|s_n, C=2) for unif_prior: ||eta|| = 86.14823888608029, eta_angle=3.10622066044623, u_t = 1.6757819928537376, u_s_n=3.1019386538799694\n",
      "mean of p(eta|s_n, C=2) for kappa_idx1: ||eta|| = 6.064317811066462, eta_angle=3.10299311876781, u_t = 1.6757819928537376, u_s_n=3.1019386538799694\n",
      "mean of p(eta|s_n, C=2) for kappa_idx2: ||eta|| = 42.75072074238903, eta_angle=3.104342169454807, u_t = 1.6757819928537376, u_s_n=3.1019386538799694\n",
      "mean of p(eta|s_n, C=2) for unif_prior: ||eta|| = 87.81438264399918, eta_angle=-3.1335471933000085, u_t = 3.1019386538799694, u_s_n=-3.132328046463897\n",
      "mean of p(eta|s_n, C=2) for kappa_idx1: ||eta|| = 6.064495773288972, eta_angle=-3.132575638576336, u_t = 3.1019386538799694, u_s_n=-3.132328046463897\n",
      "mean of p(eta|s_n, C=2) for kappa_idx2: ||eta|| = 42.75345104669893, eta_angle=-3.1329069002580043, u_t = 3.1019386538799694, u_s_n=-3.132328046463897\n",
      "mean of p(eta|s_n, C=2) for unif_prior: ||eta|| = 81.46326285805036, eta_angle=-1.5826015362804586, u_t = 3.1019386538799694, u_s_n=-1.5825920017703348\n",
      "mean of p(eta|s_n, C=2) for kappa_idx1: ||eta|| = 6.05138226348071, eta_angle=-1.5826334147715009, u_t = 3.1019386538799694, u_s_n=-1.5825920017703348\n",
      "mean of p(eta|s_n, C=2) for kappa_idx2: ||eta|| = 42.722476136855434, eta_angle=-1.5825920017703348, u_t = 3.1019386538799694, u_s_n=-1.5825920017703348\n",
      "mean of p(eta|s_n, C=2) for unif_prior: ||eta|| = 81.49076712126524, eta_angle=0.05616163826253321, u_t = 3.1019386538799694, u_s_n=0.05616155368553866\n",
      "mean of p(eta|s_n, C=2) for kappa_idx1: ||eta|| = 6.051609361416964, eta_angle=0.05616155671862867, u_t = 3.1019386538799694, u_s_n=0.05616155368553866\n",
      "mean of p(eta|s_n, C=2) for kappa_idx2: ||eta|| = 42.722476136855434, eta_angle=0.056161553685538664, u_t = 3.1019386538799694, u_s_n=0.05616155368553866\n",
      "mean of p(eta|s_n, C=2) for unif_prior: ||eta|| = 81.45679289563039, eta_angle=1.6757937661474858, u_t = 3.1019386538799694, u_s_n=1.6757819928537376\n",
      "mean of p(eta|s_n, C=2) for kappa_idx1: ||eta|| = 6.051233256106376, eta_angle=1.6758579035602585, u_t = 3.1019386538799694, u_s_n=1.6757819928537376\n",
      "mean of p(eta|s_n, C=2) for kappa_idx2: ||eta|| = 42.722476136855455, eta_angle=1.6757819928537376, u_t = 3.1019386538799694, u_s_n=1.6757819928537376\n",
      "mean of p(eta|s_n, C=2) for unif_prior: ||eta|| = 86.14823888608029, eta_angle=3.10622066044623, u_t = 3.1019386538799694, u_s_n=3.1019386538799694\n",
      "mean of p(eta|s_n, C=2) for kappa_idx1: ||eta|| = 6.064317811066462, eta_angle=3.10299311876781, u_t = 3.1019386538799694, u_s_n=3.1019386538799694\n",
      "mean of p(eta|s_n, C=2) for kappa_idx2: ||eta|| = 42.75072074238903, eta_angle=3.104342169454807, u_t = 3.1019386538799694, u_s_n=3.1019386538799694\n"
     ]
    }
   ],
   "source": [
    "for i1 in range(mu_x_dim):\n",
    "    for i2 in range(mu_x_dim):\n",
    "        for eta_prior_type in eta_priors:\n",
    "            p_eta_separate_cause_s = eta_posteriors[eta_prior_type]['p_eta_separate_cause_s']\n",
    "            eta_hat = get_expected_value(p_eta_separate_cause_s[i1,i2], etas)\n",
    "            print(f'mean of p(eta|s_n, C=2) for {eta_prior_type}: ||eta|| = {np.linalg.norm(eta_hat)}, eta_angle={np.arctan2(eta_hat[1], eta_hat[0])}, '\n",
    "                  f'u_t = {ut.reshape((5, 5))[i1, i2]}, u_s_n={us_n.reshape((5, 5))[i1, i2]}')\n",
    "            # p_eta_separate_cause_t = eta_posteriors[eta_prior_type]['p_eta_separate_cause_t']\n",
    "            # eta_hat = get_expected_value(p_eta_separate_cause_t[i1,i2], etas)\n",
    "            # print(f'mean for (p(eta|t, C=2) for {eta_prior_type}: ||eta|| = {np.linalg.norm(eta_hat)}, eta_angle={np.arctan2(eta_hat[1], eta_hat[0])}, '\n",
    "            #       f'u_t = {ut.reshape((5, 5))[i1, i2]}, u_s_n={us_n.reshape((5, 5))[i1, i2]}')"
   ]
  },
  {
   "cell_type": "markdown",
   "metadata": {},
   "source": [
    "### Compare with causal inference in the mean parameters model"
   ]
  },
  {
   "cell_type": "markdown",
   "metadata": {},
   "source": [
    "#### Find the optimal fusion and seggregation estimates"
   ]
  },
  {
   "cell_type": "code",
   "execution_count": 53,
   "metadata": {},
   "outputs": [],
   "source": [
    "# For fair comparison to the natural parameters model where for C=1 we use \\eta_1=\\eta_2=\\eta, kappa2 will be set to kappa1\n",
    "kappa1 = np.array([kappas[kappa_idx1], kappas[kappa_idx2]])\n",
    "kappa2 = np.array([kappas[kappa_idx1], kappas[kappa_idx2]])"
   ]
  },
  {
   "cell_type": "code",
   "execution_count": null,
   "metadata": {},
   "outputs": [],
   "source": [
    "kappa1_reshaped = forward_models_causal_inference.reshape_kappa_for_causal_inference(kappa1, num_mus=ut.shape[0])\n",
    "kappa2_reshaped = forward_models_causal_inference.reshape_kappa_for_causal_inference(kappa2, num_mus=us_n.shape[0])\n",
    "\n",
    "fusion_estimates = causal_inference_estimator.model.fusion_estimate(x_v=ut.reshape(-1, 1), x_a=us_n.reshape(-1, 1),\n",
    "                                                 sigma_v=kappa1_reshaped,\n",
    "                                                 sigma_a=kappa2_reshaped,\n",
    "                                                 mu_p=None, sigma_p=None)\n",
    "seggregation_estimates_1 = causal_inference_estimator.model.segregation_estimate(x=ut.reshape(-1, 1), sigma=kappa1_reshaped, \n",
    "                                                                                 mu_p=None, sigma_p=None)\n",
    "seggregation_estimates_2 = causal_inference_estimator.model.segregation_estimate(x=us_n.reshape(-1, 1), sigma=kappa2_reshaped, \n",
    "                                                                                 mu_p=None, sigma_p=None)"
   ]
  },
  {
   "cell_type": "code",
   "execution_count": 28,
   "metadata": {},
   "outputs": [
    {
     "data": {
      "text/plain": [
       "((25, 2), (25, 2), (25, 2))"
      ]
     },
     "execution_count": 28,
     "metadata": {},
     "output_type": "execute_result"
    }
   ],
   "source": [
    "fusion_estimates.shape, seggregation_estimates_1.shape, seggregation_estimates_2.shape"
   ]
  },
  {
   "cell_type": "code",
   "execution_count": 44,
   "metadata": {},
   "outputs": [
    {
     "data": {
      "text/plain": [
       "array([[ 3.13667217,  3.14072375],\n",
       "       [-1.58047391, -1.57617089],\n",
       "       [-0.02162123, -0.00784841],\n",
       "       [ 1.55563517,  1.54967095],\n",
       "       [ 3.09108528,  3.09979826],\n",
       "       [ 3.13667217,  3.14072375],\n",
       "       [-1.58047391, -1.57617089],\n",
       "       [-0.02162123, -0.00784841],\n",
       "       [ 1.55563517,  1.54967095],\n",
       "       [ 3.09108528,  3.09979826],\n",
       "       [ 3.13667217,  3.14072375],\n",
       "       [-1.58047391, -1.57617089],\n",
       "       [-0.02162123, -0.00784841],\n",
       "       [ 1.55563517,  1.54967095],\n",
       "       [ 3.09108528,  3.09979826],\n",
       "       [ 3.13667217,  3.14072375],\n",
       "       [-1.58047391, -1.57617089],\n",
       "       [-0.02162123, -0.00784841],\n",
       "       [ 1.55563517,  1.54967095],\n",
       "       [ 3.09108528,  3.09979826],\n",
       "       [ 3.13667217,  3.14072375],\n",
       "       [-1.58047391, -1.57617089],\n",
       "       [-0.02162123, -0.00784841],\n",
       "       [ 1.55563517,  1.54967095],\n",
       "       [ 3.09108528,  3.09979826]])"
      ]
     },
     "execution_count": 44,
     "metadata": {},
     "output_type": "execute_result"
    }
   ],
   "source": [
    "seggregation_estimates_2"
   ]
  },
  {
   "cell_type": "markdown",
   "metadata": {},
   "source": [
    "#### Simulate full causal inference by sampling the 2 internal estimates for each pair of means (and associated concentration pairs)"
   ]
  },
  {
   "cell_type": "code",
   "execution_count": 22,
   "metadata": {},
   "outputs": [],
   "source": [
    "results = {\n",
    "    'responses': [], \n",
    "    'posterior_p_common': [],\n",
    "    'mean_t_est': [], \n",
    "    'mean_sn_est': []\n",
    "}\n",
    "results['num_sim'] = 10000\n",
    "results['ut'] = ut\n",
    "results['us_n'] = us_n\n",
    "t_samples, s_n_samples = causal_inference_estimator.get_vm_samples(num_sim=results['num_sim'], \n",
    "                                                                    mu_t=ut, mu_s_n=us_n,\n",
    "                                                                    kappa1=kappa1, \n",
    "                                                                    kappa2=kappa2)"
   ]
  },
  {
   "cell_type": "code",
   "execution_count": null,
   "metadata": {},
   "outputs": [],
   "source": [
    "for p_common in p_commons:\n",
    "    responses, posterior_p_common, mean_t_est, mean_sn_est = causal_inference_estimator.forward(t_samples=t_samples,\n",
    "                                                                                                s_n_samples=s_n_samples,\n",
    "                                                                                                p_common=p_common,\n",
    "                                                                                                kappa1=kappa1,\n",
    "                                                                                                kappa2=kappa2)\n",
    "    results['responses'].append(responses)\n",
    "    results['posterior_p_common'].append(posterior_p_common)\n",
    "    results['mean_t_est'].append(mean_t_est)\n",
    "    results['mean_sn_est'].append(mean_sn_est)"
   ]
  },
  {
   "cell_type": "markdown",
   "metadata": {},
   "source": [
    "### Tests to be moved once we're happy with the model"
   ]
  },
  {
   "cell_type": "code",
   "execution_count": 54,
   "metadata": {},
   "outputs": [
    {
     "name": "stdout",
     "output_type": "stream",
     "text": [
      "get_nat_params passed the test.\n"
     ]
    }
   ],
   "source": [
    "# Test get_nat_params\n",
    "\n",
    "# Test inputs\n",
    "mus = np.array([0, np.pi/2, np.pi])\n",
    "kappas = np.array([1, 2])\n",
    "\n",
    "# Expected outputs\n",
    "expected_eta = np.array([\n",
    "    [[1 * np.cos(0),       1 * np.sin(0)],\n",
    "     [2 * np.cos(0),       2 * np.sin(0)]],\n",
    "    [[1 * np.cos(np.pi/2), 1 * np.sin(np.pi/2)],\n",
    "     [2 * np.cos(np.pi/2), 2 * np.sin(np.pi/2)]],\n",
    "    [[1 * np.cos(np.pi),   1 * np.sin(np.pi)],\n",
    "     [2 * np.cos(np.pi),   2 * np.sin(np.pi)]]\n",
    "])\n",
    "\n",
    "# Run the function\n",
    "result = get_nat_params(mus, kappas)\n",
    "\n",
    "# Check that the result matches the expected output\n",
    "np.testing.assert_array_almost_equal(result, expected_eta)\n",
    "\n",
    "# Check the shape\n",
    "M, K = len(mus), len(kappas)\n",
    "assert result.shape == (M, K, 2), f\"Expected shape {(M, K, 2)}, but got {result.shape}\"\n",
    "\n",
    "print(\"get_nat_params passed the test.\")"
   ]
  },
  {
   "cell_type": "code",
   "execution_count": 55,
   "metadata": {},
   "outputs": [
    {
     "name": "stdout",
     "output_type": "stream",
     "text": [
      "get_uniform_eta_prior passed the test.\n"
     ]
    }
   ],
   "source": [
    "# Test get_uniform_eta_prior\n",
    "\n",
    "# Test input\n",
    "etas = np.random.rand(10, 2)\n",
    "\n",
    "# Run the function\n",
    "prior = get_uniform_eta_prior(etas)\n",
    "\n",
    "# Expected output\n",
    "expected_prior = np.ones(10) / 10\n",
    "\n",
    "# Check that the prior matches the expected output\n",
    "np.testing.assert_array_almost_equal(prior, expected_prior)\n",
    "\n",
    "# Check that the prior sums to 1\n",
    "assert np.isclose(np.sum(prior), 1.0), f\"Sum of prior is {np.sum(prior)}, expected 1.0\"\n",
    "\n",
    "# Check the shape\n",
    "assert prior.shape == (10,), f\"Expected shape (10,), but got {prior.shape}\"\n",
    "\n",
    "print(\"get_uniform_eta_prior passed the test.\")"
   ]
  },
  {
   "cell_type": "code",
   "execution_count": 56,
   "metadata": {},
   "outputs": [
    {
     "name": "stdout",
     "output_type": "stream",
     "text": [
      "get_fixed_prior passed the test with valid kappa_idx.\n",
      "get_fixed_prior correctly raised an IndexError with invalid kappa_idx.\n",
      "get_fixed_prior correctly raised an AssertionError with invalid etas dimensions.\n"
     ]
    }
   ],
   "source": [
    "# Test get_fixed_prior\n",
    "\n",
    "# Test inputs\n",
    "num_mu, num_kappa, D = 5, 3, 2\n",
    "etas = np.random.rand(num_mu, num_kappa, D)\n",
    "kappa_idx = 1  # Valid index\n",
    "\n",
    "# Run the function\n",
    "prior = get_fixed_prior(etas, kappa_idx)\n",
    "\n",
    "# Expected output\n",
    "expected_prior = np.zeros(num_mu * num_kappa)\n",
    "for i in range(num_mu):\n",
    "    idx = i * num_kappa + kappa_idx\n",
    "    expected_prior[idx] = 1 / num_mu\n",
    "\n",
    "# Check that the prior matches the expected output\n",
    "np.testing.assert_array_almost_equal(prior, expected_prior)\n",
    "\n",
    "# Check that the prior sums to 1\n",
    "assert np.isclose(np.sum(prior), 1.0), f\"Sum of prior is {np.sum(prior)}, expected 1.0\"\n",
    "\n",
    "# Check the shape\n",
    "assert prior.shape == (num_mu * num_kappa,), f\"Expected shape {(num_mu * num_kappa,)}, but got {prior.shape}\"\n",
    "\n",
    "print(\"get_fixed_prior passed the test with valid kappa_idx.\")\n",
    "\n",
    "# Test invalid kappa_idx (out of bounds)\n",
    "try:\n",
    "    invalid_kappa_idx = num_kappa  # Out of bounds\n",
    "    prior_invalid = get_fixed_prior(etas, invalid_kappa_idx)\n",
    "    print(\"Error: get_fixed_prior did not raise an error with invalid kappa_idx.\")\n",
    "except IndexError as e:\n",
    "    print(\"get_fixed_prior correctly raised an IndexError with invalid kappa_idx.\")\n",
    "\n",
    "# Test assertion error for wrong dimensions\n",
    "try:\n",
    "    invalid_etas = etas.reshape(-1, D)  # Not 3D\n",
    "    prior_invalid = get_fixed_prior(invalid_etas, kappa_idx)\n",
    "    print(\"Error: get_fixed_prior did not raise an error with invalid etas dimensions.\")\n",
    "except AssertionError as e:\n",
    "    print(\"get_fixed_prior correctly raised an AssertionError with invalid etas dimensions.\")"
   ]
  },
  {
   "cell_type": "code",
   "execution_count": 57,
   "metadata": {},
   "outputs": [
    {
     "name": "stdout",
     "output_type": "stream",
     "text": [
      "get_p_eta_common_cause passed the test.\n"
     ]
    }
   ],
   "source": [
    "# Test get_p_eta_common_cause\n",
    "\n",
    "# Test inputs\n",
    "n = 3  # Number of observations\n",
    "e = 4  # Number of eta vectors\n",
    "\n",
    "# Observations s_1 and s_2\n",
    "s_1 = np.array([0.0, np.pi/2, np.pi])  # Shape: (n,)\n",
    "s_2 = np.array([np.pi/2, np.pi, 0.0])  # Shape: (n,)\n",
    "\n",
    "# Eta vectors\n",
    "etas = np.array([\n",
    "    [1.0, 0.0],\n",
    "    [0.0, 1.0],\n",
    "    [-1.0, 0.0],\n",
    "    [0.0, -1.0]\n",
    "])  # Shape: (e, 2)\n",
    "\n",
    "# Prior probabilities\n",
    "p_eta = np.ones(e) / e  # Uniform prior, shape: (e,)\n",
    "\n",
    "# Expected shapes\n",
    "expected_shape = (n, e)\n",
    "\n",
    "# Run the function\n",
    "p_eta_given_s1_s2 = get_p_eta_common_cause(p_eta, etas, s_1, s_2)\n",
    "\n",
    "# Check the shape of the output\n",
    "assert p_eta_given_s1_s2.shape == expected_shape, f\"Expected shape {expected_shape}, but got {p_eta_given_s1_s2.shape}\"\n",
    "\n",
    "# Check that probabilities are normalized (sum to 1 over eta for each observation)\n",
    "sums = np.sum(p_eta_given_s1_s2, axis=1)\n",
    "np.testing.assert_array_almost_equal(sums, np.ones(n))\n",
    "\n",
    "# Additional check: values are non-negative\n",
    "assert np.all(p_eta_given_s1_s2 >= 0), \"Probabilities contain negative values.\"\n",
    "\n",
    "print(\"get_p_eta_common_cause passed the test.\")"
   ]
  },
  {
   "cell_type": "code",
   "execution_count": 59,
   "metadata": {},
   "outputs": [
    {
     "name": "stdout",
     "output_type": "stream",
     "text": [
      "get_p_eta_separate_cause passed the test.\n"
     ]
    }
   ],
   "source": [
    "# Test get_p_eta_separate_cause\n",
    "\n",
    "# Test inputs\n",
    "n = 3  # Number of observations\n",
    "e = 4  # Number of eta vectors\n",
    "\n",
    "# Observations s\n",
    "s = np.array([0.0, np.pi/2, np.pi])  # Shape: (n,)\n",
    "\n",
    "# Eta vectors\n",
    "etas = np.array([\n",
    "    [1.0, 0.0],\n",
    "    [0.0, 1.0],\n",
    "    [-1.0, 0.0],\n",
    "    [0.0, -1.0]\n",
    "])  # Shape: (e, 2)\n",
    "\n",
    "# Prior probabilities\n",
    "p_eta = np.ones(e) / e  # Uniform prior, shape: (e,)\n",
    "\n",
    "# Expected shape\n",
    "expected_shape = (n, e)\n",
    "\n",
    "# Run the function\n",
    "p_eta_given_s = get_p_eta_separate_cause(p_eta, etas, s)\n",
    "\n",
    "# Check the shape of the output\n",
    "assert p_eta_given_s.shape == expected_shape, f\"Expected shape {expected_shape}, but got {p_eta_given_s.shape}\"\n",
    "\n",
    "# Check that probabilities are normalized (sum to 1 over eta for each observation)\n",
    "sums = np.sum(p_eta_given_s, axis=1)\n",
    "np.testing.assert_array_almost_equal(sums, np.ones(n))\n",
    "\n",
    "# Additional check: values are non-negative\n",
    "assert np.all(p_eta_given_s >= 0), \"Probabilities contain negative values.\"\n",
    "\n",
    "print(\"get_p_eta_separate_cause passed the test.\")"
   ]
  },
  {
   "cell_type": "code",
   "execution_count": 58,
   "metadata": {},
   "outputs": [
    {
     "name": "stdout",
     "output_type": "stream",
     "text": [
      "get_expected_value passed the test.\n",
      "get_expected_value passed the test with unnormalized probabilities.\n",
      "get_expected_value passed the test with zero probabilities.\n"
     ]
    }
   ],
   "source": [
    "# Test get_expected_value\n",
    "\n",
    "# Test inputs\n",
    "E = 4  # Number of eta vectors\n",
    "D = 2  # Dimensionality of eta vectors\n",
    "\n",
    "# Eta vectors\n",
    "eta = np.array([\n",
    "    [1.0, 2.0],\n",
    "    [3.0, 4.0],\n",
    "    [5.0, 6.0],\n",
    "    [7.0, 8.0]\n",
    "])  # Shape: (E, D)\n",
    "\n",
    "# Corresponding probabilities\n",
    "p_eta = np.array([0.1, 0.2, 0.3, 0.4])  # Shape: (E,)\n",
    "\n",
    "# Expected value computed manually\n",
    "expected_value = np.sum(p_eta.reshape(-1, 1) * eta, axis=0)\n",
    "\n",
    "# Run the function\n",
    "result = get_expected_value(p_eta, eta)\n",
    "\n",
    "# Check that the result matches the expected value\n",
    "np.testing.assert_array_almost_equal(result, expected_value)\n",
    "\n",
    "# Check that the output has the correct shape\n",
    "assert result.shape == (D,), f\"Expected shape {(D,)}, but got {result.shape}\"\n",
    "\n",
    "print(\"get_expected_value passed the test.\")\n",
    "\n",
    "# Additional tests for edge cases\n",
    "\n",
    "# Test with probabilities that do not sum to 1\n",
    "p_eta_unnormalized = np.array([0.5, 0.5, 0.5, 0.5])  # Sum is 2.0\n",
    "p_eta_normalized = p_eta_unnormalized / np.sum(p_eta_unnormalized)\n",
    "expected_value = np.sum(p_eta_normalized.reshape(-1, 1) * eta, axis=0)\n",
    "result = get_expected_value(p_eta_normalized, eta)\n",
    "np.testing.assert_array_almost_equal(result, expected_value)\n",
    "print(\"get_expected_value passed the test with unnormalized probabilities.\")\n",
    "\n",
    "# Test with zero probabilities\n",
    "p_eta_zero = np.array([0.0, 0.0, 1.0, 0.0])  # Only the third eta has probability 1\n",
    "expected_value = eta[2]\n",
    "result = get_expected_value(p_eta_zero, eta)\n",
    "np.testing.assert_array_almost_equal(result, expected_value)\n",
    "print(\"get_expected_value passed the test with zero probabilities.\")"
   ]
  }
 ],
 "metadata": {
  "kernelspec": {
   "display_name": "Python 3",
   "language": "python",
   "name": "python3"
  },
  "language_info": {
   "codemirror_mode": {
    "name": "ipython",
    "version": 3
   },
   "file_extension": ".py",
   "mimetype": "text/x-python",
   "name": "python",
   "nbconvert_exporter": "python",
   "pygments_lexer": "ipython3",
   "version": "3.9.2"
  }
 },
 "nbformat": 4,
 "nbformat_minor": 2
}
