{
 "cells": [
  {
   "cell_type": "code",
   "execution_count": null,
   "metadata": {},
   "outputs": [],
   "source": [
    "%load_ext autoreload\n",
    "%autoreload 2\n",
    "\n",
    "import numpy as np\n",
    "from custom_causal_inference import CustomCausalInference\n",
    "import utils\n",
    "import forward_models_causal_inference\n",
    "import matplotlib.pyplot as plt\n",
    "import pickle"
   ]
  },
  {
   "cell_type": "code",
   "execution_count": 2,
   "metadata": {},
   "outputs": [],
   "source": [
    "%reload_ext autoreload"
   ]
  },
  {
   "cell_type": "code",
   "execution_count": 6,
   "metadata": {},
   "outputs": [],
   "source": [
    "D = 250  # grid dimension \n",
    "NUM_SIM = 10000  # number of simulations\n",
    "angle_gam_data_path = './base_bayesian_contour_1_circular_gam.pkl'\n",
    "unif_fn_data_path='./uniform_model_base_inv_kappa_free.pkl'\n",
    "p_commons = np.linspace(0, 1, num=20)\n",
    "t_index = 0\n",
    "\n",
    "causal_inference_estimator = forward_models_causal_inference.CausalEstimator(\n",
    "    model=CustomCausalInference(decision_rule='mean'),\n",
    "    angle_gam_data_path=angle_gam_data_path,\n",
    "    unif_fn_data_path=unif_fn_data_path)\n",
    "unif_map = causal_inference_estimator.unif_map"
   ]
  },
  {
   "cell_type": "code",
   "execution_count": 7,
   "metadata": {},
   "outputs": [],
   "source": [
    "grid_sz = 100\n",
    "optimal_kappa_pairs_filepath = f'./learned_data/optimal_kappa_pairs_{grid_sz}_t{t_index}.pkl'\n",
    "min_error_for_idx_pc_filepath = f'./learned_data/min_error_for_idx_pc_{grid_sz}_t{t_index}.pkl'\n",
    "min_error_for_idx_filepath = f'./learned_data/min_error_for_idx_{grid_sz}_t{t_index}.pkl'\n",
    "s_ns_filepath = f'./learned_data/selected_s_n_{grid_sz}_t{t_index}.npy'\n",
    "ts_filepath = f'./learned_data/selected_t_{grid_sz}_t{t_index}.npy'\n",
    "r_ns_filepath = f'./learned_data/selected_r_n_{grid_sz}_t{t_index}.npy'"
   ]
  },
  {
   "cell_type": "code",
   "execution_count": 8,
   "metadata": {},
   "outputs": [],
   "source": [
    "with open(optimal_kappa_pairs_filepath, 'rb') as f:\n",
    "    optimal_kappa_pairs = pickle.load(f)\n",
    "with open(min_error_for_idx_pc_filepath, 'rb') as f:\n",
    "    min_error_for_idx_pc = pickle.load(f)\n",
    "with open(min_error_for_idx_filepath, 'rb') as f:\n",
    "    min_error_for_idx = pickle.load(f)\n",
    "s_ns = np.load(s_ns_filepath)\n",
    "ts = np.load(ts_filepath)\n",
    "r_ns = np.load(r_ns_filepath)"
   ]
  },
  {
   "cell_type": "code",
   "execution_count": null,
   "metadata": {},
   "outputs": [],
   "source": [
    "grid_dim = int(np.sqrt(s_ns.shape[0]))\n",
    "grid_dim"
   ]
  },
  {
   "cell_type": "code",
   "execution_count": null,
   "metadata": {},
   "outputs": [],
   "source": [
    "plt.scatter(s_ns, r_ns, label = 'r_n as fn of s_n')\n",
    "#plt.scatter(ts, r_ns, label='r_n as fn of t')\n",
    "plt.plot(s_ns, s_ns, label='s_n', c='r')\n",
    "plt.legend()\n",
    "plt.savefig(f'./figs/sn_vs_rn_{grid_sz}_t{t_index}.png')\n",
    "plt.clf()\n",
    "plt.scatter(np.linspace(np.min(s_ns), np.max(s_ns), num=grid_dim), s_ns[:grid_dim])\n",
    "plt.title('Selected s_n as a function of uniform stimuli in angle space')\n",
    "plt.savefig(f'./figs/selected_sn_{grid_sz}_t{t_index}.png')\n",
    "plt.clf()"
   ]
  },
  {
   "cell_type": "code",
   "execution_count": 16,
   "metadata": {},
   "outputs": [
    {
     "name": "stdout",
     "output_type": "stream",
     "text": [
      "Max dif across 10 estimates for index (25, 0.2631578947368421) 2.1818740650768684\n",
      "31: t, s_n, r_n = (-1.274, -0.694, -0.5054) d/pi=0.1847 min_err=0.17728925846396626 p_c=0.895 optimal_kappa=(array([200.]), array([1.1]))\n",
      "32: t, s_n, r_n = (-0.971, -0.694, -0.3778) d/pi=0.0884 min_err=0.2908016210927098 p_c=0.842 optimal_kappa=(array([200.]), array([1.1]))\n",
      "33: t, s_n, r_n = (-0.694, -0.694, -0.3649) d/pi=0.0 min_err=0.29428533852956784 p_c=0.842 optimal_kappa=(array([200.]), array([1.1]))\n",
      "34: t, s_n, r_n = (-0.517, -0.694, -0.3803) d/pi=0.0562 min_err=0.14691863891036938 p_c=0.0 optimal_kappa=(array([1.74668135]), array([300.]))\n",
      "41: t, s_n, r_n = (-1.274, -0.517, -0.2964) d/pi=0.241 min_err=0.23048828551166256 p_c=0.947 optimal_kappa=(array([200.]), array([1.1]))\n",
      "42: t, s_n, r_n = (-0.971, -0.517, -0.1256) d/pi=0.1446 min_err=0.3991226504054093 p_c=0.947 optimal_kappa=(array([200.]), array([1.1]))\n",
      "43: t, s_n, r_n = (-0.694, -0.517, -0.173) d/pi=0.0562 min_err=0.3412230631212796 p_c=0.895 optimal_kappa=(array([151.32934551]), array([1.1]))\n",
      "44: t, s_n, r_n = (-0.517, -0.517, -0.2697) d/pi=0.0 min_err=0.2366593041397449 p_c=0.842 optimal_kappa=(array([151.32934551]), array([1.1]))\n",
      "51: t, s_n, r_n = (-1.274, -0.416, -0.2004) d/pi=0.2731 min_err=0.2232236602369384 p_c=1.0 optimal_kappa=(array([200.]), array([1.47770902]))\n",
      "52: t, s_n, r_n = (-0.971, -0.416, -0.0295) d/pi=0.1767 min_err=0.39306463469022335 p_c=1.0 optimal_kappa=(array([200.]), array([1.1]))\n",
      "53: t, s_n, r_n = (-0.694, -0.416, -0.1076) d/pi=0.0884 min_err=0.3127692271420388 p_c=0.947 optimal_kappa=(array([200.]), array([1.1]))\n",
      "54: t, s_n, r_n = (-0.517, -0.416, -0.2354) d/pi=0.0321 min_err=0.17952739989529798 p_c=0.947 optimal_kappa=(array([200.]), array([1.1]))\n",
      "61: t, s_n, r_n = (-1.274, -0.341, -0.1412) d/pi=0.2972 min_err=0.20189301540717652 p_c=1.0 optimal_kappa=(array([200.]), array([1.1]))\n",
      "62: t, s_n, r_n = (-0.971, -0.341, 0.0168) d/pi=0.2008 min_err=0.3602083134707392 p_c=1.0 optimal_kappa=(array([200.]), array([1.47770902]))\n",
      "63: t, s_n, r_n = (-0.694, -0.341, -0.0768) d/pi=0.1124 min_err=0.26570891883451386 p_c=1.0 optimal_kappa=(array([200.]), array([1.1]))\n",
      "64: t, s_n, r_n = (-0.517, -0.341, -0.2121) d/pi=0.0562 min_err=0.1307661106435738 p_c=1.0 optimal_kappa=(array([200.]), array([1.1]))\n",
      "71: t, s_n, r_n = (-1.274, -0.265, -0.096) d/pi=0.3213 min_err=0.16486481339799441 p_c=1.0 optimal_kappa=(array([49.60161148]), array([1.1]))\n",
      "72: t, s_n, r_n = (-0.971, -0.265, 0.0374) d/pi=0.2249 min_err=0.29774724225823945 p_c=1.0 optimal_kappa=(array([49.60161148]), array([1.1]))\n",
      "73: t, s_n, r_n = (-0.694, -0.265, -0.0604) d/pi=0.1365 min_err=0.19937867652893093 p_c=1.0 optimal_kappa=(array([28.3976304]), array([1.1]))\n",
      "81: t, s_n, r_n = (-1.274, -0.189, -0.0701) d/pi=0.3454 min_err=0.10113309646735713 p_c=1.0 optimal_kappa=(array([28.3976304]), array([1.1]))\n",
      "82: t, s_n, r_n = (-0.971, -0.189, 0.0278) d/pi=0.249 min_err=0.19760310039397266 p_c=1.0 optimal_kappa=(array([28.3976304]), array([1.1]))\n",
      "83: t, s_n, r_n = (-0.694, -0.189, -0.0562) d/pi=0.1606 min_err=0.11135669971837414 p_c=1.0 optimal_kappa=(array([21.48697412]), array([1.1]))\n",
      "97: t, s_n, r_n = (-0.265, -0.063, 0.0316) d/pi=0.0643 min_err=0.08748080603139297 p_c=1.0 optimal_kappa=(array([21.48697412]), array([1.1]))\n",
      "98: t, s_n, r_n = (-0.189, -0.063, 0.0526) d/pi=0.0402 min_err=0.10614252106189603 p_c=1.0 optimal_kappa=(array([28.3976304]), array([1.1]))\n",
      "99: t, s_n, r_n = (-0.063, -0.063, 0.0805) d/pi=0.0 min_err=0.1253852073622661 p_c=0.421 optimal_kappa=(array([1.]), array([1.47770902]))\n"
     ]
    }
   ],
   "source": [
    "err_mat = np.zeros_like(s_ns)\n",
    "optimal_kappa_pairs_arr = np.zeros((*s_ns.shape, 2)) # 2 kappa values\n",
    "optimal_pc = np.zeros_like(s_ns)\n",
    "err_threshold = np.deg2rad(5)\n",
    "\n",
    "test_fwd_sim = True\n",
    "fwd_errors = np.zeros_like(s_ns)\n",
    "for key in min_error_for_idx_pc:\n",
    "    if min_error_for_idx_pc[key] == min_error_for_idx[key[0]]:\n",
    "        # key[0] is the index of means s.t. causal inference is performed on (s_n[key[0]], t[key[0]])\n",
    "        # key[1] is the optimal p_common for the pair\n",
    "        optimal_pc[key[0]] = key[1]\n",
    "        err_mat[int(key[0])] = min_error_for_idx[key[0]]\n",
    "        optimal_kappa_pairs_arr[int(key[0]), :] = np.array(optimal_kappa_pairs[key]).reshape(2,)\n",
    "        if min_error_for_idx_pc[key] >= err_threshold:\n",
    "            print(f'{key[0]}: t, s_n, r_n = {np.round(s_ns[key[0]], 3), np.round(ts[key[0]], 3), np.round(r_ns[key[0]], 4)}', \n",
    "                f'd/pi={np.round(utils.circular_dist(s_ns[key[0]], ts[key[0]]) / np.pi, 4)}', \n",
    "                f'min_err={min_error_for_idx_pc[key]}',  \n",
    "                f'p_c={np.round(key[1], 3)}', \n",
    "                f'optimal_kappa={optimal_kappa_pairs[key]}')\n",
    "        if test_fwd_sim:\n",
    "            mean_sn_ests = []\n",
    "            for _ in range(30):\n",
    "                usn, ut = unif_map.angle_space_to_unif_space([s_ns[key[0]]]), unif_map.angle_space_to_unif_space([ts[key[0]]])\n",
    "                t_samples, s_n_samples = causal_inference_estimator.get_vm_samples(\n",
    "                            num_sim=10000,\n",
    "                            mu_t=ut,\n",
    "                            mu_s_n=usn,\n",
    "                            kappa1=optimal_kappa_pairs[key][0],\n",
    "                            kappa2=optimal_kappa_pairs[key][1])\n",
    "                _, _, _, mean_sn_est = causal_inference_estimator.forward(t_samples=t_samples,\n",
    "                    s_n_samples=s_n_samples, \n",
    "                                                                        kappa1=optimal_kappa_pairs[key][0], \n",
    "                                                                        kappa2=optimal_kappa_pairs[key][1], \n",
    "                                                                        p_common=key[1])\n",
    "                mean_sn_ests.append(mean_sn_est[0,0])\n",
    "                assert mean_sn_est.shape == (1, 1)\n",
    "            del t_samples, s_n_samples\n",
    "            fwd_errors[key[0]] = sum(map(lambda x: utils.circular_dist(x, r_ns[key[0]]), mean_sn_ests)) / len(mean_sn_ests)\n",
    "            if (np.rad2deg(utils.circular_dist(max(mean_sn_ests), min(mean_sn_ests))) > 2):\n",
    "                print('Max dif across 10 estimates for index', key, np.rad2deg(utils.circular_dist(max(mean_sn_ests), min(mean_sn_ests))))\n",
    "            if abs(fwd_errors[key[0]] - min_error_for_idx_pc[key]) > err_threshold:\n",
    "                print(f'Error forward vs fits {key[0]}', fwd_errors[key[0]], np.rad2deg(abs(fwd_errors[key[0]] - min_error_for_idx_pc[key])), np.rad2deg(utils.circular_dist(max(mean_sn_ests), min(mean_sn_ests))))\n"
   ]
  },
  {
   "cell_type": "code",
   "execution_count": 19,
   "metadata": {},
   "outputs": [
    {
     "name": "stdout",
     "output_type": "stream",
     "text": [
      "Indices where optimal kappa1 > kappa2: 89 [False  True  True  True  True  True  True  True  True  True  True  True\n",
      "  True  True  True  True  True  True  True  True  True  True  True  True\n",
      "  True  True  True  True  True  True  True  True  True  True False False\n",
      " False False False  True  True  True  True  True  True False False  True\n",
      "  True  True  True  True  True  True  True  True False  True  True  True\n",
      "  True  True  True  True  True  True False  True  True  True  True  True\n",
      "  True  True  True  True  True  True  True  True  True  True  True  True\n",
      "  True  True  True  True  True  True  True  True  True  True  True  True\n",
      "  True  True  True False]\n"
     ]
    }
   ],
   "source": [
    "print(f'Indices where optimal kappa1 > kappa2: {np.sum(optimal_kappa_pairs_arr[:, 0] >= optimal_kappa_pairs_arr[:, 1])} {optimal_kappa_pairs_arr[:, 0] >= optimal_kappa_pairs_arr[:, 1]}')"
   ]
  },
  {
   "cell_type": "code",
   "execution_count": 20,
   "metadata": {},
   "outputs": [
    {
     "name": "stdout",
     "output_type": "stream",
     "text": [
      "Kappa values where optimal kappa1 > kappa2: [[  9.30796486   6.4650238 ]\n",
      " [  9.30796486   2.66674449]\n",
      " [ 16.25804865   4.81253485]\n",
      " [114.50285407   4.81253485]\n",
      " [ 28.3976304    3.58242946]\n",
      " [200.           1.98511269]\n",
      " [  9.30796486   1.47770902]\n",
      " [  3.05089575   1.98511269]\n",
      " [  9.30796486   1.47770902]\n",
      " [ 49.60161148   1.1       ]\n",
      " [ 49.60161148   1.1       ]\n",
      " [ 86.63820982   1.98511269]\n",
      " [ 12.30159931   1.1       ]\n",
      " [ 12.30159931   1.1       ]\n",
      " [ 86.63820982   2.66674449]\n",
      " [ 86.63820982   1.47770902]\n",
      " [ 49.60161148   1.47770902]\n",
      " [ 49.60161148  15.67324238]\n",
      " [ 12.30159931   1.98511269]\n",
      " [200.           1.1       ]\n",
      " [114.50285407   1.1       ]\n",
      " [114.50285407   1.1       ]\n",
      " [ 16.25804865  11.66709164]\n",
      " [114.50285407  28.28468397]\n",
      " [ 65.55451795   1.1       ]\n",
      " [ 49.60161148   4.81253485]\n",
      " [200.           8.68493093]\n",
      " [  3.05089575   1.98511269]\n",
      " [  4.03212706   3.58242946]\n",
      " [ 86.63820982   2.66674449]\n",
      " [200.           1.1       ]\n",
      " [200.           1.1       ]\n",
      " [200.           1.1       ]\n",
      " [  9.30796486   8.68493093]\n",
      " [ 21.48697412   1.47770902]\n",
      " [200.           1.1       ]\n",
      " [200.           1.1       ]\n",
      " [151.32934551   1.1       ]\n",
      " [151.32934551   1.1       ]\n",
      " [  7.04284115   6.4650238 ]\n",
      " [ 28.3976304    2.66674449]\n",
      " [ 49.60161148   1.98511269]\n",
      " [ 28.3976304    1.1       ]\n",
      " [200.           1.47770902]\n",
      " [200.           1.1       ]\n",
      " [200.           1.1       ]\n",
      " [200.           1.1       ]\n",
      " [200.           1.1       ]\n",
      " [ 12.30159931   2.66674449]\n",
      " [  4.03212706   1.47770902]\n",
      " [ 37.53089701   6.4650238 ]\n",
      " [ 28.3976304    1.47770902]\n",
      " [200.           1.1       ]\n",
      " [200.           1.47770902]\n",
      " [200.           1.1       ]\n",
      " [200.           1.1       ]\n",
      " [114.50285407   1.1       ]\n",
      " [  4.03212706   1.98511269]\n",
      " [  3.05089575   1.47770902]\n",
      " [ 65.55451795   2.66674449]\n",
      " [  7.04284115   1.98511269]\n",
      " [ 49.60161148   1.1       ]\n",
      " [ 49.60161148   1.1       ]\n",
      " [ 28.3976304    1.1       ]\n",
      " [ 28.3976304    1.1       ]\n",
      " [ 21.48697412   1.1       ]\n",
      " [151.32934551  11.66709164]\n",
      " [  7.04284115   1.98511269]\n",
      " [  2.30845028   1.1       ]\n",
      " [  3.05089575   1.1       ]\n",
      " [  7.04284115   1.1       ]\n",
      " [ 28.3976304    1.1       ]\n",
      " [ 28.3976304    1.1       ]\n",
      " [ 21.48697412   1.1       ]\n",
      " [ 21.48697412   1.1       ]\n",
      " [ 86.63820982   1.1       ]\n",
      " [ 21.48697412   4.81253485]\n",
      " [  5.32894271   1.47770902]\n",
      " [114.50285407  37.99684797]\n",
      " [ 86.63820982   1.1       ]\n",
      " [ 21.48697412   1.47770902]\n",
      " [ 86.63820982   4.81253485]\n",
      " [151.32934551   1.47770902]\n",
      " [200.           1.1       ]\n",
      " [114.50285407   1.1       ]\n",
      " [114.50285407   1.1       ]\n",
      " [ 49.60161148   1.1       ]\n",
      " [ 21.48697412   1.1       ]\n",
      " [ 28.3976304    1.1       ]]\n"
     ]
    }
   ],
   "source": [
    "print(f'Kappa values where optimal kappa1 > kappa2: {optimal_kappa_pairs_arr[optimal_kappa_pairs_arr[:, 0] >= optimal_kappa_pairs_arr[:, 1]]}')"
   ]
  },
  {
   "cell_type": "code",
   "execution_count": null,
   "metadata": {},
   "outputs": [
    {
     "data": {
      "image/png": "[encoded data removed]",
      "text/plain": [
       "<Figure size 720x576 with 2 Axes>"
      ]
     },
     "metadata": {
      "needs_background": "light"
     },
     "output_type": "display_data"
    }
   ],
   "source": [
    "usns = unif_map.angle_space_to_unif_space(s_ns)\n",
    "uts = unif_map.angle_space_to_unif_space(ts)\n",
    "plt.figure(figsize=(10, 8))\n",
    "plt.pcolormesh(usns.reshape((grid_dim, grid_dim)), uts.reshape((grid_dim, grid_dim)), \n",
    "               err_mat.reshape((grid_dim, grid_dim)), shading='auto', cmap='magma')\n",
    "plt.colorbar(label='circular distance to r_n(t, s_n)')\n",
    "plt.xlabel('s_n')\n",
    "plt.ylabel('t')\n",
    "plt.title('Heatmap of error for r_n(t, s_n)')\n",
    "plt.savefig(f'./figs/error_heatmap_uspace_{grid_sz}_t{t_index}.png')\n",
    "plt.clf()"
   ]
  },
  {
   "cell_type": "code",
   "execution_count": null,
   "metadata": {},
   "outputs": [
    {
     "data": {
      "image/png": "[encoded data removed]",
      "text/plain": [
       "<Figure size 720x576 with 2 Axes>"
      ]
     },
     "metadata": {
      "needs_background": "light"
     },
     "output_type": "display_data"
    }
   ],
   "source": [
    "plt.figure(figsize=(10, 8))\n",
    "plt.pcolormesh(usns.reshape((grid_dim, grid_dim)), \n",
    "               uts.reshape((grid_dim, grid_dim)), \n",
    "               r_ns.reshape((grid_dim, grid_dim)), shading='auto', cmap='magma')\n",
    "plt.colorbar(label='r_n(t, s_n)')\n",
    "plt.xlabel('s_n')\n",
    "plt.ylabel('t')\n",
    "plt.title('Heatmap of r_n(t, s_n)')\n",
    "plt.savefig(f'./figs/r_n_axis_u_space_{grid_sz}_t{t_index}.png')\n",
    "plt.clf()"
   ]
  },
  {
   "cell_type": "code",
   "execution_count": 24,
   "metadata": {},
   "outputs": [
    {
     "data": {
      "text/plain": [
       "<Figure size 720x576 with 0 Axes>"
      ]
     },
     "metadata": {},
     "output_type": "display_data"
    },
    {
     "data": {
      "text/plain": [
       "<Figure size 720x576 with 0 Axes>"
      ]
     },
     "metadata": {},
     "output_type": "display_data"
    },
    {
     "data": {
      "text/plain": [
       "<Figure size 720x576 with 0 Axes>"
      ]
     },
     "metadata": {},
     "output_type": "display_data"
    }
   ],
   "source": [
    "optimal_kappa_ratio = optimal_kappa_pairs_arr[:, 1] / optimal_kappa_pairs_arr[:, 0]\n",
    "plt.figure(figsize=(10, 8))\n",
    "plt.pcolormesh(usns.reshape((grid_dim, grid_dim)), uts.reshape((grid_dim, grid_dim)), \n",
    "               optimal_kappa_pairs_arr[:, 1].reshape((grid_dim, grid_dim)), shading='auto', cmap='RdBu')\n",
    "plt.colorbar(label='optimal_kappa_ratio(t, s_n)')\n",
    "plt.xlabel('us_n')\n",
    "plt.ylabel('ut')\n",
    "plt.title('Heatmap of $\\kappa_{s_n}(t, s_n)}$')\n",
    "plt.savefig(f'./figs/optimal_kappa_ratio_{grid_sz}_t{t_index}.png')\n",
    "plt.clf()\n",
    "\n",
    "for k_index in [0, 1]:\n",
    "    plt.figure(figsize=(10, 8))\n",
    "    plt.pcolormesh(usns.reshape((grid_dim, grid_dim)), uts.reshape((grid_dim, grid_dim)), \n",
    "                optimal_kappa_pairs_arr[:, k_index].reshape((grid_dim, grid_dim)), shading='auto', cmap='RdBu')\n",
    "    plt.colorbar(label='optimal_kappa_ratio(t, s_n)')\n",
    "    plt.xlabel('us_n')\n",
    "    plt.ylabel('ut')\n",
    "    if k_index == 0:\n",
    "        # plot latex doesn't support variables :(\n",
    "        plt.title(f'Heatmap of $\\kappa_1(t, s_n)$')\n",
    "    else:\n",
    "        plt.title(f'Heatmap of $\\kappa_2(t, s_n)$')\n",
    "    plt.savefig(f'./figs/kappa{k_index+1}_{grid_sz}_t{t_index}.png')\n",
    "    plt.clf()"
   ]
  },
  {
   "cell_type": "code",
   "execution_count": null,
   "metadata": {},
   "outputs": [],
   "source": [
    "plt.figure(figsize=(10, 8))\n",
    "plt.pcolormesh(usns.reshape((grid_dim, grid_dim)), uts.reshape((grid_dim, grid_dim)), \n",
    "               optimal_pc.reshape((grid_dim, grid_dim)), shading='auto', cmap='RdBu')\n",
    "plt.colorbar(label='p_common(ut, us_n)')\n",
    "plt.xlabel('s_n')\n",
    "plt.ylabel('t')\n",
    "plt.title('Heatmap of optimal p_common(ut, us_n)')\n",
    "plt.savefig(f'./figs/p_common_{grid_sz}_t{t_index}.png')\n",
    "plt.clf()"
   ]
  },
  {
   "cell_type": "markdown",
   "metadata": {},
   "source": [
    "## Looking at optimal $\\kappa$ pairs"
   ]
  },
  {
   "cell_type": "code",
   "execution_count": null,
   "metadata": {},
   "outputs": [
    {
     "name": "stdout",
     "output_type": "stream",
     "text": [
      "Number of tasks: 81\n",
      "Number of bad tasks: 0\n",
      "Max error: 0.3916801571684698\n",
      "[28, 29, 30, 37, 38, 39, 40, 46, 47, 48, 55, 56, 57, 64, 65, 79, 80] \n",
      " [((-0.1892525694933611, -0.9714965233992534), -0.35595155), ((-0.06308418983112052, -0.9714965233992534), -0.079912424), ((-1.5771047457780087, -0.6939260881423239), -0.78163743), ((-0.26495359729070556, -0.6939260881423239), -0.36372972), ((-0.1892525694933611, -0.6939260881423239), -0.32800508), ((-0.06308418983112052, -0.6939260881423239), -0.22025418), ((-1.5771047457780087, -0.5172903566151867), -0.7605517), ((-0.34065462508805, -0.5172903566151867), -0.3824799), ((-0.26495359729070556, -0.5172903566151867), -0.41731572), ((-0.1892525694933611, -0.5172903566151867), -0.43105817), ((-0.41635565288539444, -0.41635565288539444), -0.31982255), ((-0.34065462508805, -0.41635565288539444), -0.37721944), ((-0.26495359729070556, -0.41635565288539444), -0.4193461), ((-0.5172903566151867, -0.34065462508805), -0.21205354), ((-0.41635565288539444, -0.34065462508805), -0.29569936), ((-0.06308418983112052, -0.26495359729070556), -0.24296975), ((-1.5771047457780087, -0.1892525694933611), -0.53726983)]\n"
     ]
    }
   ],
   "source": [
    "import pickle\n",
    "\n",
    "grid_sz = 81\n",
    "with open(f'./learned_data/task_metadata_{grid_sz}_t{t_index}.pkl', 'rb') as f:\n",
    "    tasks_metadata = pickle.load(f)\n",
    "num_tasks = len(tasks_metadata)\n",
    "print(f'Number of tasks: {num_tasks}')\n",
    "errors_dicts = {}\n",
    "err_for_idx = {}\n",
    "nums_bad = 0\n",
    "max_error = 0\n",
    "high_err_idx = []\n",
    "for task_idx in range(num_tasks):\n",
    "    try:\n",
    "        with open(f'./learned_data/optimal_kappa_errors/errors_dict_{task_idx}_{grid_sz}_t{t_index}.pkl', 'rb') as f:\n",
    "            errors_dicts[task_idx] = pickle.load(f)\n",
    "            mean_idx = tasks_metadata[task_idx]['mean_indices'][0]\n",
    "            min_error_across_pc = min([errors_dicts[task_idx][p_c]['errors'].min() for p_c in errors_dicts[task_idx].keys()])\n",
    "            if mean_idx not in err_for_idx:\n",
    "                err_for_idx[mean_idx] = min_error_across_pc\n",
    "            else:   \n",
    "                err_for_idx[mean_idx] = min(err_for_idx[mean_idx], min_error_across_pc)\n",
    "    except:\n",
    "        nums_bad += 1\n",
    "        print(f'Error for task {task_idx}')\n",
    "print(f'Number of bad tasks: {nums_bad}')\n",
    "for mean_idx in err_for_idx:\n",
    "    if err_for_idx[mean_idx] > .1:\n",
    "        high_err_idx.append(mean_idx)\n",
    "    max_error = max(err_for_idx[mean_idx], max_error)\n",
    "print(f'Max error: {max_error}')\n",
    "print(high_err_idx, '\\n', list(zip(zip(s_ns[high_err_idx], ts[high_err_idx]), r_ns[high_err_idx])))"
   ]
  }
 ],
 "metadata": {
  "kernelspec": {
   "display_name": "Python 3",
   "language": "python",
   "name": "python3"
  },
  "language_info": {
   "codemirror_mode": {
    "name": "ipython",
    "version": 3
   },
   "file_extension": ".py",
   "mimetype": "text/x-python",
   "name": "python",
   "nbconvert_exporter": "python",
   "pygments_lexer": "ipython3",
   "version": "3.9.2"
  }
 },
 "nbformat": 4,
 "nbformat_minor": 2
}
