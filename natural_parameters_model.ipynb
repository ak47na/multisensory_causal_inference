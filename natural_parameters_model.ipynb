{
 "cells": [
  {
   "cell_type": "markdown",
   "metadata": {},
   "source": [
    "# Causal Inference in Internal space using natural parameters and assuming Angle space responses"
   ]
  },
  {
   "cell_type": "code",
   "execution_count": 1,
   "metadata": {},
   "outputs": [
    {
     "name": "stderr",
     "output_type": "stream",
     "text": [
      "c:\\Users\\Ana\\AppData\\Local\\Programs\\Python\\Python39\\lib\\site-packages\\scipy\\__init__.py:155: UserWarning: A NumPy version >=1.18.5 and <1.25.0 is required for this version of SciPy (detected version 1.26.4\n",
      "  warnings.warn(f\"A NumPy version >={np_minversion} and <{np_maxversion}\"\n"
     ]
    }
   ],
   "source": [
    "%load_ext autoreload\n",
    "%autoreload 2\n",
    "\n",
    "import numpy as np\n",
    "from scipy.stats import vonmises, circmean\n",
    "from custom_causal_inference import CustomCausalInference\n",
    "from repulsion_hypothesis import repulsion_value\n",
    "import utils\n",
    "import plots\n",
    "import forward_models_causal_inference"
   ]
  },
  {
   "cell_type": "markdown",
   "metadata": {},
   "source": [
    "## Setup"
   ]
  },
  {
   "cell_type": "code",
   "execution_count": 2,
   "metadata": {},
   "outputs": [
    {
     "data": {
      "text/plain": [
       "<Figure size 576x432 with 0 Axes>"
      ]
     },
     "metadata": {},
     "output_type": "display_data"
    }
   ],
   "source": [
    "num_sim = 1000\n",
    "D = 250  # grid dimension \n",
    "angle_gam_data_path = 'D:/AK_Q1_2024/Gatsby/data/base_bayesian_contour_1_circular_gam/base_bayesian_contour_1_circular_gam.pkl'\n",
    "unif_fn_data_path='D:/AK_Q1_2024/Gatsby/uniform_model_base_inv_kappa_free.pkl'\n",
    "p_commons = [0, .2, .5, .7, 1]\n",
    "\n",
    "causal_inference_estimator = forward_models_causal_inference.CausalEstimator(\n",
    "    model=CustomCausalInference(decision_rule='mean'),\n",
    "    angle_gam_data_path=angle_gam_data_path,\n",
    "    unif_fn_data_path=unif_fn_data_path)\n",
    "unif_map = causal_inference_estimator.unif_map"
   ]
  },
  {
   "cell_type": "markdown",
   "metadata": {},
   "source": [
    "## Select the means of cues used for causal inference and the \"ground-truth\" corresponding responses "
   ]
  },
  {
   "cell_type": "markdown",
   "metadata": {},
   "source": [
    "Get the s_n, t, r_n(s_n, t) values of interest"
   ]
  },
  {
   "cell_type": "code",
   "execution_count": 13,
   "metadata": {},
   "outputs": [
    {
     "data": {
      "text/plain": [
       "((250, 250), (250, 250), (250, 250))"
      ]
     },
     "execution_count": 13,
     "metadata": {},
     "output_type": "execute_result"
    }
   ],
   "source": [
    "s_n, t, r_n = utils.get_s_n_and_t(causal_inference_estimator.grid, \n",
    "                                   causal_inference_estimator.gam_data)\n",
    "s_n.shape, t.shape, r_n.shape"
   ]
  },
  {
   "cell_type": "markdown",
   "metadata": {},
   "source": [
    "Further filer the values of s_n, t considered (and r_n implicitly) for faster simulations"
   ]
  },
  {
   "cell_type": "code",
   "execution_count": 14,
   "metadata": {},
   "outputs": [
    {
     "data": {
      "image/png": "[encoded data removed]",
      "text/plain": [
       "<Figure size 576x432 with 2 Axes>"
      ]
     },
     "metadata": {
      "needs_background": "light"
     },
     "output_type": "display_data"
    },
    {
     "data": {
      "text/plain": [
       "<Figure size 432x288 with 0 Axes>"
      ]
     },
     "metadata": {},
     "output_type": "display_data"
    }
   ],
   "source": [
    "num_means = 4\n",
    "step=len(s_n)//num_means\n",
    "indices = np.arange(0, s_n.shape[0], step=step)\n",
    "mu_x_dim = len(indices)\n",
    "s_n = s_n[indices][:, indices]\n",
    "t = t[indices][:, indices]\n",
    "r_n = r_n[indices][:, indices]\n",
    "plots.heatmap_f_s_n_t(f_s_n_t=r_n, s_n=s_n, t=t, f_name='r_n')"
   ]
  },
  {
   "cell_type": "code",
   "execution_count": 15,
   "metadata": {},
   "outputs": [
    {
     "data": {
      "text/plain": [
       "((5, 5), (5, 5))"
      ]
     },
     "execution_count": 15,
     "metadata": {},
     "output_type": "execute_result"
    }
   ],
   "source": [
    "s_n.shape, t.shape"
   ]
  },
  {
   "cell_type": "markdown",
   "metadata": {},
   "source": [
    "## Causal inference"
   ]
  },
  {
   "cell_type": "markdown",
   "metadata": {},
   "source": [
    "### Convert means to internal space"
   ]
  },
  {
   "cell_type": "code",
   "execution_count": 16,
   "metadata": {},
   "outputs": [
    {
     "name": "stdout",
     "output_type": "stream",
     "text": [
      "Performing causal inference for ut, u_s_n of shape ((25,), (25,))\n"
     ]
    }
   ],
   "source": [
    "s_n, t, r_n = s_n.flatten(), t.flatten(), r_n.flatten()\n",
    "us_n = unif_map.angle_space_to_unif_space(s_n)\n",
    "ut = unif_map.angle_space_to_unif_space(t)\n",
    "print(f'Performing causal inference for ut, u_s_n of shape {ut.shape, us_n.shape}')"
   ]
  },
  {
   "cell_type": "markdown",
   "metadata": {},
   "source": [
    "### Create the grid and the prior over natural parameters"
   ]
  },
  {
   "cell_type": "code",
   "execution_count": 28,
   "metadata": {},
   "outputs": [],
   "source": [
    "def get_nat_params(mus, kappas):\n",
    "    nat_params = np.zeros((len(mus), len(kappas), 2))\n",
    "    for i, mu in enumerate(mus):\n",
    "        for j, kappa in enumerate(kappas):\n",
    "            nat_params[i, j] = kappa * np.array([np.cos(mu), np.sin(mu)])\n",
    "    return nat_params\n",
    "\n",
    "def get_uniform_eta_prior(etas):\n",
    "    return np.ones((etas.shape[0], etas.shape[1])) / (etas.shape[0]*etas.shape[1])\n",
    "\n",
    "\n",
    "kappas = np.logspace(start=0, stop=np.log10(500), num=20, base=10)\n",
    "mus = np.linspace(-np.pi, np.pi, num=20)\n",
    "etas = get_nat_params(mus, kappas)\n",
    "prior_eta = get_uniform_eta_prior(etas)\n",
    "etas, prior_eta = etas.reshape((-1, 2)), prior_eta.flatten()"
   ]
  },
  {
   "cell_type": "markdown",
   "metadata": {},
   "source": [
    "### Compute the likelihoods"
   ]
  },
  {
   "cell_type": "code",
   "execution_count": 29,
   "metadata": {},
   "outputs": [],
   "source": [
    "def get_p_eta_common_cause(p_eta, etas, s_1, s_2):\n",
    "    \"\"\"\n",
    "    Computes p(eta | s_1, s_2) for the common cause scenario.\n",
    "\n",
    "    Parameters:\n",
    "    - p_eta: Prior probabilities over eta, shape (e,)\n",
    "    - etas: Natural parameters, shape (e, 2)\n",
    "    - s_1: Means for the first cue, shape (n, m)\n",
    "    - s_2: Means for the second cue, shape (n, m)\n",
    "\n",
    "    Returns:\n",
    "    - p_eta_given_s1_s2: shape (n, m, e)\n",
    "    \"\"\"\n",
    "    # Compute mu and kappa from etas\n",
    "    mu = np.arctan2(etas[:, 1], etas[:, 0])     # shape (e,)\n",
    "    kappa = np.linalg.norm(etas, axis=1)        # shape (e,)\n",
    "\n",
    "    # Reshape s_1 and s_2 for broadcasting\n",
    "    s_1 = s_1[:, :, np.newaxis]                 # shape (n, m, 1)\n",
    "    s_2 = s_2[:, :, np.newaxis]                 # shape (n, m, 1)\n",
    "\n",
    "    # Reshape mu and kappa for broadcasting\n",
    "    mu = mu[np.newaxis, np.newaxis, :]          # shape (1, 1, e)\n",
    "    kappa = kappa[np.newaxis, np.newaxis, :]    # shape (1, 1, e)\n",
    "    vm_pdf_s1 = vonmises.pdf(s_1, kappa, loc=mu)\n",
    "    vm_pdf_s2 = vonmises.pdf(s_2, kappa, loc=mu)\n",
    "\n",
    "    # Reshape p_eta for broadcasting\n",
    "    p_eta = p_eta[np.newaxis, np.newaxis, :]    # shape (1, 1, e)\n",
    "\n",
    "    # Compute p(\\eta \\mid s_1, s_2, C=1)\n",
    "    p_eta_given_s1_s2 = vm_pdf_s1 * vm_pdf_s2 * p_eta  # shape (n, m, e)\n",
    "    # Compute the sum over eta to normalize\n",
    "    sum_over_eta = np.sum(p_eta_given_s1_s2, axis=2, keepdims=True)  # shape (n, m, 1)\n",
    "    # Avoid division by zero\n",
    "    sum_over_eta[sum_over_eta == 0] = 1e-10\n",
    "    # Normalize the posterior probabilities\n",
    "    p_eta_given_s1_s2_normalized = p_eta_given_s1_s2 / sum_over_eta      # shape (n, m, e)\n",
    "    return p_eta_given_s1_s2_normalized\n",
    "\n",
    "def get_p_eta_separate_cause(p_eta, etas, s):\n",
    "    \"\"\"\n",
    "    Computes p(eta | s, C=2) for the separate cause scenario.\n",
    "\n",
    "    Parameters:\n",
    "    - p_eta: Prior probabilities over eta, shape (e,)\n",
    "    - etas: Natural parameters, shape (e, 2)\n",
    "    - s: Means of the cue, shape (n, m)\n",
    "\n",
    "    Returns:\n",
    "    - p_eta_given_s: shape (n, m, e)\n",
    "    \"\"\"\n",
    "    # Compute mu and kappa from etas\n",
    "    mu = np.arctan2(etas[:, 1], etas[:, 0])     # shape (e,)\n",
    "    kappa = np.linalg.norm(etas, axis=1)        # shape (e,)\n",
    "\n",
    "    # Reshape s for broadcasting\n",
    "    s = s[:, :, np.newaxis]                     # shape (n, m, 1)\n",
    "\n",
    "    # Reshape mu and kappa for broadcasting\n",
    "    mu = mu[np.newaxis, np.newaxis, :]          # shape (1, 1, e)\n",
    "    kappa = kappa[np.newaxis, np.newaxis, :]    # shape (1, 1, e)\n",
    "    vm_pdf_s = vonmises.pdf(s, kappa, loc=mu)\n",
    "\n",
    "    # Reshape p_eta for broadcasting\n",
    "    p_eta = p_eta[np.newaxis, np.newaxis, :]    # shape (1, 1, e)\n",
    "\n",
    "    # Compute p(\\eta \\mid s, C=2)\n",
    "    p_eta_given_s = vm_pdf_s * p_eta            # shape (n, m, e)\n",
    "\n",
    "    # Compute the sum over eta to normalize\n",
    "    sum_over_eta = np.sum(p_eta_given_s, axis=2, keepdims=True)  # shape (n, m, 1)\n",
    "    # Avoid division by zero\n",
    "    sum_over_eta[sum_over_eta == 0] = 1e-10\n",
    "    # Normalize the posterior probabilities\n",
    "    p_eta_given_s_normalized = p_eta_given_s / sum_over_eta      # shape (n, m, e)\n",
    "    return p_eta_given_s_normalized"
   ]
  },
  {
   "cell_type": "code",
   "execution_count": 45,
   "metadata": {},
   "outputs": [],
   "source": [
    "def get_mean(p_eta, eta):\n",
    "    exp_sum = p_eta.reshape(-1, 1)*eta\n",
    "    return exp_sum.sum(axis=0)"
   ]
  },
  {
   "cell_type": "code",
   "execution_count": 30,
   "metadata": {},
   "outputs": [],
   "source": [
    "p_eta_common_cause = get_p_eta_common_cause(p_eta=prior_eta, etas=etas,\n",
    "                                            s_1=ut.reshape((5, 5)),\n",
    "                                            s_2=us_n.reshape((5, 5)))\n",
    "p_eta_separate_cause_t = get_p_eta_separate_cause(p_eta=prior_eta, etas=etas,\n",
    "                                            s=ut.reshape((5, 5)))\n",
    "p_eta_separate_cause_s = get_p_eta_separate_cause(p_eta=prior_eta, etas=etas,\n",
    "                                            s=us_n.reshape((5, 5)))"
   ]
  },
  {
   "cell_type": "code",
   "execution_count": 52,
   "metadata": {},
   "outputs": [
    {
     "name": "stdout",
     "output_type": "stream",
     "text": [
      "284.40316339983656 -3.141572906556094 -3.132328046463897 -3.132328046463897\n",
      "1.8150418174282825 -2.4152768033533145 -3.132328046463897 -1.5825920017703348\n",
      "0.08608946769857868 2.5402707434326945 -3.132328046463897 0.05616155368553866\n",
      "1.9550598522321536 2.471363680343903 -3.132328046463897 1.6757819928537376\n",
      "263.64424830774067 3.141550212574809 -3.132328046463897 3.1019386538799694\n",
      "1.8150418174282825 -2.4152768033533145 -1.5825920017703348 -3.132328046463897\n",
      "92.57340648406404 -1.496030799420594 -1.5825920017703348 -1.5825920017703348\n",
      "1.684937278117787 -0.7657771929381049 -1.5825920017703348 0.05616155368553866\n",
      "0.2024300791370559 -3.1139255066689735 -1.5825920017703348 1.6757819928537376\n",
      "1.7380373404134588 -2.4441875751773496 -1.5825920017703348 3.1019386538799694\n",
      "0.08608946769857868 2.5402707434326945 0.05616155368553866 -3.132328046463897\n",
      "1.684937278117787 -0.7657771929381049 0.05616155368553866 -1.5825920017703348\n",
      "67.66074919771485 0.14761056524195132 0.05616155368553866 0.05616155368553866\n",
      "1.7148316370251573 0.869029171068388 0.05616155368553866 1.6757819928537376\n",
      "0.12161304576655842 2.1829984657046513 0.05616155368553866 3.1019386538799694\n",
      "1.9550598522321536 2.471363680343903 1.6757819928537376 -3.132328046463897\n",
      "0.2024300791370559 -3.1139255066689735 1.6757819928537376 -1.5825920017703348\n",
      "1.7148316370251573 0.869029171068388 1.6757819928537376 0.05616155368553866\n",
      "38.64692445959615 1.7362735528369804 1.6757819928537376 1.6757819928537376\n",
      "2.0481307522831003 2.4423086809484063 1.6757819928537376 3.1019386538799694\n",
      "263.64424830774067 3.141550212574809 3.1019386538799694 -3.132328046463897\n",
      "1.7380373404134588 -2.4441875751773496 3.1019386538799694 -1.5825920017703348\n",
      "0.12161304576655842 2.1829984657046513 3.1019386538799694 0.05616155368553866\n",
      "2.0481307522831003 2.4423086809484063 3.1019386538799694 1.6757819928537376\n",
      "242.8928626412137 3.141436554005202 3.1019386538799694 3.1019386538799694\n"
     ]
    }
   ],
   "source": [
    "for i1 in range(mu_x_dim):\n",
    "    for i2 in range(mu_x_dim):\n",
    "        eta_hat = get_mean(p_eta_common_cause[i1,i2], etas)\n",
    "        print(np.linalg.norm(eta_hat), np.arctan2(eta_hat[1], eta_hat[0]), ut.reshape((5, 5))[i1, i2], us_n.reshape((5, 5))[i1, i2])"
   ]
  },
  {
   "cell_type": "markdown",
   "metadata": {},
   "source": [
    "### Simulate the inference by sampling the 2 internal estimates for each pair of means (and associated concentrations)"
   ]
  },
  {
   "cell_type": "code",
   "execution_count": 53,
   "metadata": {},
   "outputs": [],
   "source": [
    "kappa1 = np.array([20, 50, 70, 100])\n",
    "kappa2 = np.array([10, 40, 60, 90])"
   ]
  },
  {
   "cell_type": "code",
   "execution_count": 54,
   "metadata": {},
   "outputs": [],
   "source": [
    "results = {\n",
    "    'responses': [], \n",
    "    'posterior_p_common': [],\n",
    "    'mean_t_est': [], \n",
    "    'mean_sn_est': []\n",
    "}\n",
    "results['num_sim'] = 10000\n",
    "results['ut'] = ut\n",
    "results['us_n'] = us_n\n",
    "t_samples, s_n_samples = causal_inference_estimator.get_vm_samples(num_sim=results['num_sim'], \n",
    "                                                                    mu_t=ut, mu_s_n=us_n,\n",
    "                                                                    kappa1=kappa1, \n",
    "                                                                    kappa2=kappa2)"
   ]
  },
  {
   "cell_type": "code",
   "execution_count": 55,
   "metadata": {},
   "outputs": [
    {
     "name": "stdout",
     "output_type": "stream",
     "text": [
      "Computing p(x_V, x_A| C=1) using analytic solution on sampled x_V, x_A\n",
      "Computing p(x_V, x_A| C=2) using analytic solution on sampled x_V, x_A\n",
      "Computing p(x_V, x_A| C=1) using analytic solution on sampled x_V, x_A\n",
      "Computing p(x_V, x_A| C=2) using analytic solution on sampled x_V, x_A\n",
      "Computing p(x_V, x_A| C=1) using analytic solution on sampled x_V, x_A\n",
      "Computing p(x_V, x_A| C=2) using analytic solution on sampled x_V, x_A\n",
      "Computing p(x_V, x_A| C=1) using analytic solution on sampled x_V, x_A\n",
      "Computing p(x_V, x_A| C=2) using analytic solution on sampled x_V, x_A\n",
      "Computing p(x_V, x_A| C=1) using analytic solution on sampled x_V, x_A\n",
      "Computing p(x_V, x_A| C=2) using analytic solution on sampled x_V, x_A\n",
      "Computing p(x_V, x_A| C=1) using analytic solution on sampled x_V, x_A\n",
      "Computing p(x_V, x_A| C=2) using analytic solution on sampled x_V, x_A\n",
      "Computing p(x_V, x_A| C=1) using analytic solution on sampled x_V, x_A\n",
      "Computing p(x_V, x_A| C=2) using analytic solution on sampled x_V, x_A\n",
      "Computing p(x_V, x_A| C=1) using analytic solution on sampled x_V, x_A\n",
      "Computing p(x_V, x_A| C=2) using analytic solution on sampled x_V, x_A\n",
      "Computing p(x_V, x_A| C=1) using analytic solution on sampled x_V, x_A\n",
      "Computing p(x_V, x_A| C=2) using analytic solution on sampled x_V, x_A\n",
      "Computing p(x_V, x_A| C=1) using analytic solution on sampled x_V, x_A\n",
      "Computing p(x_V, x_A| C=2) using analytic solution on sampled x_V, x_A\n"
     ]
    },
    {
     "data": {
      "text/plain": [
       "<Figure size 576x432 with 0 Axes>"
      ]
     },
     "metadata": {},
     "output_type": "display_data"
    },
    {
     "data": {
      "text/plain": [
       "<Figure size 576x432 with 0 Axes>"
      ]
     },
     "metadata": {},
     "output_type": "display_data"
    },
    {
     "data": {
      "text/plain": [
       "<Figure size 576x432 with 0 Axes>"
      ]
     },
     "metadata": {},
     "output_type": "display_data"
    },
    {
     "data": {
      "text/plain": [
       "<Figure size 576x432 with 0 Axes>"
      ]
     },
     "metadata": {},
     "output_type": "display_data"
    },
    {
     "data": {
      "text/plain": [
       "<Figure size 576x432 with 0 Axes>"
      ]
     },
     "metadata": {},
     "output_type": "display_data"
    },
    {
     "data": {
      "text/plain": [
       "<Figure size 576x432 with 0 Axes>"
      ]
     },
     "metadata": {},
     "output_type": "display_data"
    },
    {
     "data": {
      "text/plain": [
       "<Figure size 576x432 with 0 Axes>"
      ]
     },
     "metadata": {},
     "output_type": "display_data"
    },
    {
     "data": {
      "text/plain": [
       "<Figure size 576x432 with 0 Axes>"
      ]
     },
     "metadata": {},
     "output_type": "display_data"
    },
    {
     "data": {
      "text/plain": [
       "<Figure size 576x432 with 0 Axes>"
      ]
     },
     "metadata": {},
     "output_type": "display_data"
    },
    {
     "data": {
      "text/plain": [
       "<Figure size 576x432 with 0 Axes>"
      ]
     },
     "metadata": {},
     "output_type": "display_data"
    },
    {
     "data": {
      "text/plain": [
       "<Figure size 576x432 with 0 Axes>"
      ]
     },
     "metadata": {},
     "output_type": "display_data"
    },
    {
     "data": {
      "text/plain": [
       "<Figure size 576x432 with 0 Axes>"
      ]
     },
     "metadata": {},
     "output_type": "display_data"
    },
    {
     "data": {
      "text/plain": [
       "<Figure size 576x432 with 0 Axes>"
      ]
     },
     "metadata": {},
     "output_type": "display_data"
    },
    {
     "data": {
      "text/plain": [
       "<Figure size 576x432 with 0 Axes>"
      ]
     },
     "metadata": {},
     "output_type": "display_data"
    },
    {
     "data": {
      "text/plain": [
       "<Figure size 576x432 with 0 Axes>"
      ]
     },
     "metadata": {},
     "output_type": "display_data"
    }
   ],
   "source": [
    "for p_common in p_commons:\n",
    "    responses, posterior_p_common, mean_t_est, mean_sn_est = causal_inference_estimator.forward(t_samples=t_samples,\n",
    "                                                                                                s_n_samples=s_n_samples,\n",
    "                                                                                                p_common=p_common,\n",
    "                                                                                                kappa1=kappa1,\n",
    "                                                                                                kappa2=kappa2)\n",
    "    results['responses'].append(responses)\n",
    "    results['posterior_p_common'].append(posterior_p_common)\n",
    "    results['mean_t_est'].append(mean_t_est)\n",
    "    results['mean_sn_est'].append(mean_sn_est)"
   ]
  },
  {
   "cell_type": "code",
   "execution_count": null,
   "metadata": {},
   "outputs": [],
   "source": []
  }
 ],
 "metadata": {
  "kernelspec": {
   "display_name": "Python 3",
   "language": "python",
   "name": "python3"
  },
  "language_info": {
   "codemirror_mode": {
    "name": "ipython",
    "version": 3
   },
   "file_extension": ".py",
   "mimetype": "text/x-python",
   "name": "python",
   "nbconvert_exporter": "python",
   "pygments_lexer": "ipython3",
   "version": "3.9.2"
  }
 },
 "nbformat": 4,
 "nbformat_minor": 2
}
